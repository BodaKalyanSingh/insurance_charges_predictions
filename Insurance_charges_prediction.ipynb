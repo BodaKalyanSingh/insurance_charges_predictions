{
 "cells": [
  {
   "cell_type": "code",
   "execution_count": 1,
   "id": "2dc80e62",
   "metadata": {},
   "outputs": [],
   "source": [
    "import pandas as pd\n",
    "import numpy as np\n",
    "import matplotlib.pyplot as plt\n",
    "import seaborn as sns"
   ]
  },
  {
   "cell_type": "code",
   "execution_count": 2,
   "id": "f68f61f2",
   "metadata": {},
   "outputs": [],
   "source": [
    "data=pd.read_csv('new_insurance_data.csv')"
   ]
  },
  {
   "cell_type": "code",
   "execution_count": 3,
   "id": "b3a3cfa9",
   "metadata": {
    "scrolled": true
   },
   "outputs": [
    {
     "data": {
      "text/html": [
       "<div>\n",
       "<style scoped>\n",
       "    .dataframe tbody tr th:only-of-type {\n",
       "        vertical-align: middle;\n",
       "    }\n",
       "\n",
       "    .dataframe tbody tr th {\n",
       "        vertical-align: top;\n",
       "    }\n",
       "\n",
       "    .dataframe thead th {\n",
       "        text-align: right;\n",
       "    }\n",
       "</style>\n",
       "<table border=\"1\" class=\"dataframe\">\n",
       "  <thead>\n",
       "    <tr style=\"text-align: right;\">\n",
       "      <th></th>\n",
       "      <th>age</th>\n",
       "      <th>sex</th>\n",
       "      <th>bmi</th>\n",
       "      <th>children</th>\n",
       "      <th>smoker</th>\n",
       "      <th>Claim_Amount</th>\n",
       "      <th>past_consultations</th>\n",
       "      <th>num_of_steps</th>\n",
       "      <th>Hospital_expenditure</th>\n",
       "      <th>NUmber_of_past_hospitalizations</th>\n",
       "      <th>Anual_Salary</th>\n",
       "      <th>region</th>\n",
       "      <th>charges</th>\n",
       "    </tr>\n",
       "  </thead>\n",
       "  <tbody>\n",
       "    <tr>\n",
       "      <th>0</th>\n",
       "      <td>18.0</td>\n",
       "      <td>male</td>\n",
       "      <td>23.210</td>\n",
       "      <td>0.0</td>\n",
       "      <td>no</td>\n",
       "      <td>29087.54313</td>\n",
       "      <td>17.0</td>\n",
       "      <td>715428.0</td>\n",
       "      <td>4.720921e+06</td>\n",
       "      <td>0.0</td>\n",
       "      <td>5.578497e+07</td>\n",
       "      <td>southeast</td>\n",
       "      <td>1121.87390</td>\n",
       "    </tr>\n",
       "    <tr>\n",
       "      <th>1</th>\n",
       "      <td>18.0</td>\n",
       "      <td>male</td>\n",
       "      <td>30.140</td>\n",
       "      <td>0.0</td>\n",
       "      <td>no</td>\n",
       "      <td>39053.67437</td>\n",
       "      <td>7.0</td>\n",
       "      <td>699157.0</td>\n",
       "      <td>4.329832e+06</td>\n",
       "      <td>0.0</td>\n",
       "      <td>1.370089e+07</td>\n",
       "      <td>southeast</td>\n",
       "      <td>1131.50660</td>\n",
       "    </tr>\n",
       "    <tr>\n",
       "      <th>2</th>\n",
       "      <td>18.0</td>\n",
       "      <td>male</td>\n",
       "      <td>33.330</td>\n",
       "      <td>0.0</td>\n",
       "      <td>no</td>\n",
       "      <td>39023.62759</td>\n",
       "      <td>19.0</td>\n",
       "      <td>702341.0</td>\n",
       "      <td>6.884861e+06</td>\n",
       "      <td>0.0</td>\n",
       "      <td>7.352311e+07</td>\n",
       "      <td>southeast</td>\n",
       "      <td>1135.94070</td>\n",
       "    </tr>\n",
       "    <tr>\n",
       "      <th>3</th>\n",
       "      <td>18.0</td>\n",
       "      <td>male</td>\n",
       "      <td>33.660</td>\n",
       "      <td>0.0</td>\n",
       "      <td>no</td>\n",
       "      <td>28185.39332</td>\n",
       "      <td>11.0</td>\n",
       "      <td>700250.0</td>\n",
       "      <td>4.274774e+06</td>\n",
       "      <td>0.0</td>\n",
       "      <td>7.581968e+07</td>\n",
       "      <td>southeast</td>\n",
       "      <td>1136.39940</td>\n",
       "    </tr>\n",
       "    <tr>\n",
       "      <th>4</th>\n",
       "      <td>18.0</td>\n",
       "      <td>male</td>\n",
       "      <td>34.100</td>\n",
       "      <td>0.0</td>\n",
       "      <td>no</td>\n",
       "      <td>14697.85941</td>\n",
       "      <td>16.0</td>\n",
       "      <td>711584.0</td>\n",
       "      <td>3.787294e+06</td>\n",
       "      <td>0.0</td>\n",
       "      <td>2.301232e+07</td>\n",
       "      <td>southeast</td>\n",
       "      <td>1137.01100</td>\n",
       "    </tr>\n",
       "    <tr>\n",
       "      <th>...</th>\n",
       "      <td>...</td>\n",
       "      <td>...</td>\n",
       "      <td>...</td>\n",
       "      <td>...</td>\n",
       "      <td>...</td>\n",
       "      <td>...</td>\n",
       "      <td>...</td>\n",
       "      <td>...</td>\n",
       "      <td>...</td>\n",
       "      <td>...</td>\n",
       "      <td>...</td>\n",
       "      <td>...</td>\n",
       "      <td>...</td>\n",
       "    </tr>\n",
       "    <tr>\n",
       "      <th>1333</th>\n",
       "      <td>33.0</td>\n",
       "      <td>female</td>\n",
       "      <td>35.530</td>\n",
       "      <td>0.0</td>\n",
       "      <td>yes</td>\n",
       "      <td>63142.25346</td>\n",
       "      <td>32.0</td>\n",
       "      <td>1091267.0</td>\n",
       "      <td>1.703805e+08</td>\n",
       "      <td>2.0</td>\n",
       "      <td>3.101107e+09</td>\n",
       "      <td>northwest</td>\n",
       "      <td>55135.40209</td>\n",
       "    </tr>\n",
       "    <tr>\n",
       "      <th>1334</th>\n",
       "      <td>31.0</td>\n",
       "      <td>female</td>\n",
       "      <td>38.095</td>\n",
       "      <td>1.0</td>\n",
       "      <td>yes</td>\n",
       "      <td>43419.95227</td>\n",
       "      <td>31.0</td>\n",
       "      <td>1107872.0</td>\n",
       "      <td>2.015152e+08</td>\n",
       "      <td>2.0</td>\n",
       "      <td>3.484216e+09</td>\n",
       "      <td>northeast</td>\n",
       "      <td>58571.07448</td>\n",
       "    </tr>\n",
       "    <tr>\n",
       "      <th>1335</th>\n",
       "      <td>52.0</td>\n",
       "      <td>male</td>\n",
       "      <td>34.485</td>\n",
       "      <td>3.0</td>\n",
       "      <td>yes</td>\n",
       "      <td>52458.92353</td>\n",
       "      <td>25.0</td>\n",
       "      <td>1092005.0</td>\n",
       "      <td>2.236450e+08</td>\n",
       "      <td>2.0</td>\n",
       "      <td>3.640807e+09</td>\n",
       "      <td>northwest</td>\n",
       "      <td>60021.39897</td>\n",
       "    </tr>\n",
       "    <tr>\n",
       "      <th>1336</th>\n",
       "      <td>45.0</td>\n",
       "      <td>male</td>\n",
       "      <td>30.360</td>\n",
       "      <td>0.0</td>\n",
       "      <td>yes</td>\n",
       "      <td>69927.51664</td>\n",
       "      <td>34.0</td>\n",
       "      <td>1106821.0</td>\n",
       "      <td>2.528924e+08</td>\n",
       "      <td>3.0</td>\n",
       "      <td>4.006359e+09</td>\n",
       "      <td>southeast</td>\n",
       "      <td>62592.87309</td>\n",
       "    </tr>\n",
       "    <tr>\n",
       "      <th>1337</th>\n",
       "      <td>54.0</td>\n",
       "      <td>female</td>\n",
       "      <td>47.410</td>\n",
       "      <td>0.0</td>\n",
       "      <td>yes</td>\n",
       "      <td>63982.80926</td>\n",
       "      <td>31.0</td>\n",
       "      <td>1100328.0</td>\n",
       "      <td>2.616317e+08</td>\n",
       "      <td>3.0</td>\n",
       "      <td>4.117197e+09</td>\n",
       "      <td>southeast</td>\n",
       "      <td>63770.42801</td>\n",
       "    </tr>\n",
       "  </tbody>\n",
       "</table>\n",
       "<p>1338 rows × 13 columns</p>\n",
       "</div>"
      ],
      "text/plain": [
       "       age     sex     bmi  children smoker  Claim_Amount  past_consultations  \\\n",
       "0     18.0    male  23.210       0.0     no   29087.54313                17.0   \n",
       "1     18.0    male  30.140       0.0     no   39053.67437                 7.0   \n",
       "2     18.0    male  33.330       0.0     no   39023.62759                19.0   \n",
       "3     18.0    male  33.660       0.0     no   28185.39332                11.0   \n",
       "4     18.0    male  34.100       0.0     no   14697.85941                16.0   \n",
       "...    ...     ...     ...       ...    ...           ...                 ...   \n",
       "1333  33.0  female  35.530       0.0    yes   63142.25346                32.0   \n",
       "1334  31.0  female  38.095       1.0    yes   43419.95227                31.0   \n",
       "1335  52.0    male  34.485       3.0    yes   52458.92353                25.0   \n",
       "1336  45.0    male  30.360       0.0    yes   69927.51664                34.0   \n",
       "1337  54.0  female  47.410       0.0    yes   63982.80926                31.0   \n",
       "\n",
       "      num_of_steps  Hospital_expenditure  NUmber_of_past_hospitalizations  \\\n",
       "0         715428.0          4.720921e+06                              0.0   \n",
       "1         699157.0          4.329832e+06                              0.0   \n",
       "2         702341.0          6.884861e+06                              0.0   \n",
       "3         700250.0          4.274774e+06                              0.0   \n",
       "4         711584.0          3.787294e+06                              0.0   \n",
       "...            ...                   ...                              ...   \n",
       "1333     1091267.0          1.703805e+08                              2.0   \n",
       "1334     1107872.0          2.015152e+08                              2.0   \n",
       "1335     1092005.0          2.236450e+08                              2.0   \n",
       "1336     1106821.0          2.528924e+08                              3.0   \n",
       "1337     1100328.0          2.616317e+08                              3.0   \n",
       "\n",
       "      Anual_Salary     region      charges  \n",
       "0     5.578497e+07  southeast   1121.87390  \n",
       "1     1.370089e+07  southeast   1131.50660  \n",
       "2     7.352311e+07  southeast   1135.94070  \n",
       "3     7.581968e+07  southeast   1136.39940  \n",
       "4     2.301232e+07  southeast   1137.01100  \n",
       "...            ...        ...          ...  \n",
       "1333  3.101107e+09  northwest  55135.40209  \n",
       "1334  3.484216e+09  northeast  58571.07448  \n",
       "1335  3.640807e+09  northwest  60021.39897  \n",
       "1336  4.006359e+09  southeast  62592.87309  \n",
       "1337  4.117197e+09  southeast  63770.42801  \n",
       "\n",
       "[1338 rows x 13 columns]"
      ]
     },
     "execution_count": 3,
     "metadata": {},
     "output_type": "execute_result"
    }
   ],
   "source": [
    "data"
   ]
  },
  {
   "cell_type": "code",
   "execution_count": 4,
   "id": "f806b90f",
   "metadata": {},
   "outputs": [
    {
     "data": {
      "text/plain": [
       "(1338, 13)"
      ]
     },
     "execution_count": 4,
     "metadata": {},
     "output_type": "execute_result"
    }
   ],
   "source": [
    "data.shape"
   ]
  },
  {
   "cell_type": "code",
   "execution_count": 5,
   "id": "884c2ebd",
   "metadata": {},
   "outputs": [],
   "source": [
    "# The data is having 13 different columns, based upon it\n",
    "#we have to predict the charges, the a particular company is charging for a customer\n",
    "#in this data we are having the target column as charges"
   ]
  },
  {
   "cell_type": "code",
   "execution_count": 6,
   "id": "4f5e3cd2",
   "metadata": {},
   "outputs": [
    {
     "name": "stdout",
     "output_type": "stream",
     "text": [
      "<class 'pandas.core.frame.DataFrame'>\n",
      "RangeIndex: 1338 entries, 0 to 1337\n",
      "Data columns (total 13 columns):\n",
      " #   Column                           Non-Null Count  Dtype  \n",
      "---  ------                           --------------  -----  \n",
      " 0   age                              1329 non-null   float64\n",
      " 1   sex                              1338 non-null   object \n",
      " 2   bmi                              1335 non-null   float64\n",
      " 3   children                         1333 non-null   float64\n",
      " 4   smoker                           1338 non-null   object \n",
      " 5   Claim_Amount                     1324 non-null   float64\n",
      " 6   past_consultations               1332 non-null   float64\n",
      " 7   num_of_steps                     1335 non-null   float64\n",
      " 8   Hospital_expenditure             1334 non-null   float64\n",
      " 9   NUmber_of_past_hospitalizations  1336 non-null   float64\n",
      " 10  Anual_Salary                     1332 non-null   float64\n",
      " 11  region                           1338 non-null   object \n",
      " 12  charges                          1338 non-null   float64\n",
      "dtypes: float64(10), object(3)\n",
      "memory usage: 136.0+ KB\n"
     ]
    }
   ],
   "source": [
    "data.info()"
   ]
  },
  {
   "cell_type": "code",
   "execution_count": 7,
   "id": "a9d819fc",
   "metadata": {},
   "outputs": [
    {
     "data": {
      "text/html": [
       "<div>\n",
       "<style scoped>\n",
       "    .dataframe tbody tr th:only-of-type {\n",
       "        vertical-align: middle;\n",
       "    }\n",
       "\n",
       "    .dataframe tbody tr th {\n",
       "        vertical-align: top;\n",
       "    }\n",
       "\n",
       "    .dataframe thead th {\n",
       "        text-align: right;\n",
       "    }\n",
       "</style>\n",
       "<table border=\"1\" class=\"dataframe\">\n",
       "  <thead>\n",
       "    <tr style=\"text-align: right;\">\n",
       "      <th></th>\n",
       "      <th>age</th>\n",
       "      <th>sex</th>\n",
       "      <th>bmi</th>\n",
       "      <th>children</th>\n",
       "      <th>smoker</th>\n",
       "      <th>Claim_Amount</th>\n",
       "      <th>past_consultations</th>\n",
       "      <th>num_of_steps</th>\n",
       "      <th>Hospital_expenditure</th>\n",
       "      <th>NUmber_of_past_hospitalizations</th>\n",
       "      <th>Anual_Salary</th>\n",
       "      <th>region</th>\n",
       "      <th>charges</th>\n",
       "    </tr>\n",
       "  </thead>\n",
       "  <tbody>\n",
       "    <tr>\n",
       "      <th>0</th>\n",
       "      <td>False</td>\n",
       "      <td>False</td>\n",
       "      <td>False</td>\n",
       "      <td>False</td>\n",
       "      <td>False</td>\n",
       "      <td>False</td>\n",
       "      <td>False</td>\n",
       "      <td>False</td>\n",
       "      <td>False</td>\n",
       "      <td>False</td>\n",
       "      <td>False</td>\n",
       "      <td>False</td>\n",
       "      <td>False</td>\n",
       "    </tr>\n",
       "    <tr>\n",
       "      <th>1</th>\n",
       "      <td>False</td>\n",
       "      <td>False</td>\n",
       "      <td>False</td>\n",
       "      <td>False</td>\n",
       "      <td>False</td>\n",
       "      <td>False</td>\n",
       "      <td>False</td>\n",
       "      <td>False</td>\n",
       "      <td>False</td>\n",
       "      <td>False</td>\n",
       "      <td>False</td>\n",
       "      <td>False</td>\n",
       "      <td>False</td>\n",
       "    </tr>\n",
       "    <tr>\n",
       "      <th>2</th>\n",
       "      <td>False</td>\n",
       "      <td>False</td>\n",
       "      <td>False</td>\n",
       "      <td>False</td>\n",
       "      <td>False</td>\n",
       "      <td>False</td>\n",
       "      <td>False</td>\n",
       "      <td>False</td>\n",
       "      <td>False</td>\n",
       "      <td>False</td>\n",
       "      <td>False</td>\n",
       "      <td>False</td>\n",
       "      <td>False</td>\n",
       "    </tr>\n",
       "    <tr>\n",
       "      <th>3</th>\n",
       "      <td>False</td>\n",
       "      <td>False</td>\n",
       "      <td>False</td>\n",
       "      <td>False</td>\n",
       "      <td>False</td>\n",
       "      <td>False</td>\n",
       "      <td>False</td>\n",
       "      <td>False</td>\n",
       "      <td>False</td>\n",
       "      <td>False</td>\n",
       "      <td>False</td>\n",
       "      <td>False</td>\n",
       "      <td>False</td>\n",
       "    </tr>\n",
       "    <tr>\n",
       "      <th>4</th>\n",
       "      <td>False</td>\n",
       "      <td>False</td>\n",
       "      <td>False</td>\n",
       "      <td>False</td>\n",
       "      <td>False</td>\n",
       "      <td>False</td>\n",
       "      <td>False</td>\n",
       "      <td>False</td>\n",
       "      <td>False</td>\n",
       "      <td>False</td>\n",
       "      <td>False</td>\n",
       "      <td>False</td>\n",
       "      <td>False</td>\n",
       "    </tr>\n",
       "    <tr>\n",
       "      <th>...</th>\n",
       "      <td>...</td>\n",
       "      <td>...</td>\n",
       "      <td>...</td>\n",
       "      <td>...</td>\n",
       "      <td>...</td>\n",
       "      <td>...</td>\n",
       "      <td>...</td>\n",
       "      <td>...</td>\n",
       "      <td>...</td>\n",
       "      <td>...</td>\n",
       "      <td>...</td>\n",
       "      <td>...</td>\n",
       "      <td>...</td>\n",
       "    </tr>\n",
       "    <tr>\n",
       "      <th>1333</th>\n",
       "      <td>False</td>\n",
       "      <td>False</td>\n",
       "      <td>False</td>\n",
       "      <td>False</td>\n",
       "      <td>False</td>\n",
       "      <td>False</td>\n",
       "      <td>False</td>\n",
       "      <td>False</td>\n",
       "      <td>False</td>\n",
       "      <td>False</td>\n",
       "      <td>False</td>\n",
       "      <td>False</td>\n",
       "      <td>False</td>\n",
       "    </tr>\n",
       "    <tr>\n",
       "      <th>1334</th>\n",
       "      <td>False</td>\n",
       "      <td>False</td>\n",
       "      <td>False</td>\n",
       "      <td>False</td>\n",
       "      <td>False</td>\n",
       "      <td>False</td>\n",
       "      <td>False</td>\n",
       "      <td>False</td>\n",
       "      <td>False</td>\n",
       "      <td>False</td>\n",
       "      <td>False</td>\n",
       "      <td>False</td>\n",
       "      <td>False</td>\n",
       "    </tr>\n",
       "    <tr>\n",
       "      <th>1335</th>\n",
       "      <td>False</td>\n",
       "      <td>False</td>\n",
       "      <td>False</td>\n",
       "      <td>False</td>\n",
       "      <td>False</td>\n",
       "      <td>False</td>\n",
       "      <td>False</td>\n",
       "      <td>False</td>\n",
       "      <td>False</td>\n",
       "      <td>False</td>\n",
       "      <td>False</td>\n",
       "      <td>False</td>\n",
       "      <td>False</td>\n",
       "    </tr>\n",
       "    <tr>\n",
       "      <th>1336</th>\n",
       "      <td>False</td>\n",
       "      <td>False</td>\n",
       "      <td>False</td>\n",
       "      <td>False</td>\n",
       "      <td>False</td>\n",
       "      <td>False</td>\n",
       "      <td>False</td>\n",
       "      <td>False</td>\n",
       "      <td>False</td>\n",
       "      <td>False</td>\n",
       "      <td>False</td>\n",
       "      <td>False</td>\n",
       "      <td>False</td>\n",
       "    </tr>\n",
       "    <tr>\n",
       "      <th>1337</th>\n",
       "      <td>False</td>\n",
       "      <td>False</td>\n",
       "      <td>False</td>\n",
       "      <td>False</td>\n",
       "      <td>False</td>\n",
       "      <td>False</td>\n",
       "      <td>False</td>\n",
       "      <td>False</td>\n",
       "      <td>False</td>\n",
       "      <td>False</td>\n",
       "      <td>False</td>\n",
       "      <td>False</td>\n",
       "      <td>False</td>\n",
       "    </tr>\n",
       "  </tbody>\n",
       "</table>\n",
       "<p>1338 rows × 13 columns</p>\n",
       "</div>"
      ],
      "text/plain": [
       "        age    sex    bmi  children  smoker  Claim_Amount  past_consultations  \\\n",
       "0     False  False  False     False   False         False               False   \n",
       "1     False  False  False     False   False         False               False   \n",
       "2     False  False  False     False   False         False               False   \n",
       "3     False  False  False     False   False         False               False   \n",
       "4     False  False  False     False   False         False               False   \n",
       "...     ...    ...    ...       ...     ...           ...                 ...   \n",
       "1333  False  False  False     False   False         False               False   \n",
       "1334  False  False  False     False   False         False               False   \n",
       "1335  False  False  False     False   False         False               False   \n",
       "1336  False  False  False     False   False         False               False   \n",
       "1337  False  False  False     False   False         False               False   \n",
       "\n",
       "      num_of_steps  Hospital_expenditure  NUmber_of_past_hospitalizations  \\\n",
       "0            False                 False                            False   \n",
       "1            False                 False                            False   \n",
       "2            False                 False                            False   \n",
       "3            False                 False                            False   \n",
       "4            False                 False                            False   \n",
       "...            ...                   ...                              ...   \n",
       "1333         False                 False                            False   \n",
       "1334         False                 False                            False   \n",
       "1335         False                 False                            False   \n",
       "1336         False                 False                            False   \n",
       "1337         False                 False                            False   \n",
       "\n",
       "      Anual_Salary  region  charges  \n",
       "0            False   False    False  \n",
       "1            False   False    False  \n",
       "2            False   False    False  \n",
       "3            False   False    False  \n",
       "4            False   False    False  \n",
       "...            ...     ...      ...  \n",
       "1333         False   False    False  \n",
       "1334         False   False    False  \n",
       "1335         False   False    False  \n",
       "1336         False   False    False  \n",
       "1337         False   False    False  \n",
       "\n",
       "[1338 rows x 13 columns]"
      ]
     },
     "execution_count": 7,
     "metadata": {},
     "output_type": "execute_result"
    }
   ],
   "source": [
    "data.isnull()"
   ]
  },
  {
   "cell_type": "code",
   "execution_count": 8,
   "id": "25d266ed",
   "metadata": {},
   "outputs": [
    {
     "data": {
      "text/plain": [
       "age                                 9\n",
       "sex                                 0\n",
       "bmi                                 3\n",
       "children                            5\n",
       "smoker                              0\n",
       "Claim_Amount                       14\n",
       "past_consultations                  6\n",
       "num_of_steps                        3\n",
       "Hospital_expenditure                4\n",
       "NUmber_of_past_hospitalizations     2\n",
       "Anual_Salary                        6\n",
       "region                              0\n",
       "charges                             0\n",
       "dtype: int64"
      ]
     },
     "execution_count": 8,
     "metadata": {},
     "output_type": "execute_result"
    }
   ],
   "source": [
    "#checking for the null values \n",
    "data.isnull().sum()"
   ]
  },
  {
   "cell_type": "code",
   "execution_count": 9,
   "id": "4347f1b6",
   "metadata": {},
   "outputs": [],
   "source": [
    "# Replacing the null values\n",
    "# when the data type = object --> replace with mode()\n",
    "# when the data type = numeric --> replace with mean()/meadian()\n"
   ]
  },
  {
   "cell_type": "code",
   "execution_count": 10,
   "id": "1b4a42bd",
   "metadata": {},
   "outputs": [
    {
     "data": {
      "text/html": [
       "<div>\n",
       "<style scoped>\n",
       "    .dataframe tbody tr th:only-of-type {\n",
       "        vertical-align: middle;\n",
       "    }\n",
       "\n",
       "    .dataframe tbody tr th {\n",
       "        vertical-align: top;\n",
       "    }\n",
       "\n",
       "    .dataframe thead th {\n",
       "        text-align: right;\n",
       "    }\n",
       "</style>\n",
       "<table border=\"1\" class=\"dataframe\">\n",
       "  <thead>\n",
       "    <tr style=\"text-align: right;\">\n",
       "      <th></th>\n",
       "      <th>age</th>\n",
       "      <th>sex</th>\n",
       "      <th>bmi</th>\n",
       "      <th>children</th>\n",
       "      <th>smoker</th>\n",
       "      <th>Claim_Amount</th>\n",
       "      <th>past_consultations</th>\n",
       "      <th>num_of_steps</th>\n",
       "      <th>Hospital_expenditure</th>\n",
       "      <th>NUmber_of_past_hospitalizations</th>\n",
       "      <th>Anual_Salary</th>\n",
       "      <th>region</th>\n",
       "      <th>charges</th>\n",
       "    </tr>\n",
       "  </thead>\n",
       "  <tbody>\n",
       "    <tr>\n",
       "      <th>0</th>\n",
       "      <td>18.0</td>\n",
       "      <td>male</td>\n",
       "      <td>23.210</td>\n",
       "      <td>0.0</td>\n",
       "      <td>no</td>\n",
       "      <td>29087.54313</td>\n",
       "      <td>17.0</td>\n",
       "      <td>715428.0</td>\n",
       "      <td>4.720921e+06</td>\n",
       "      <td>0.0</td>\n",
       "      <td>5.578497e+07</td>\n",
       "      <td>southeast</td>\n",
       "      <td>1121.87390</td>\n",
       "    </tr>\n",
       "    <tr>\n",
       "      <th>1</th>\n",
       "      <td>18.0</td>\n",
       "      <td>male</td>\n",
       "      <td>30.140</td>\n",
       "      <td>0.0</td>\n",
       "      <td>no</td>\n",
       "      <td>39053.67437</td>\n",
       "      <td>7.0</td>\n",
       "      <td>699157.0</td>\n",
       "      <td>4.329832e+06</td>\n",
       "      <td>0.0</td>\n",
       "      <td>1.370089e+07</td>\n",
       "      <td>southeast</td>\n",
       "      <td>1131.50660</td>\n",
       "    </tr>\n",
       "    <tr>\n",
       "      <th>2</th>\n",
       "      <td>18.0</td>\n",
       "      <td>male</td>\n",
       "      <td>33.330</td>\n",
       "      <td>0.0</td>\n",
       "      <td>no</td>\n",
       "      <td>39023.62759</td>\n",
       "      <td>19.0</td>\n",
       "      <td>702341.0</td>\n",
       "      <td>6.884861e+06</td>\n",
       "      <td>0.0</td>\n",
       "      <td>7.352311e+07</td>\n",
       "      <td>southeast</td>\n",
       "      <td>1135.94070</td>\n",
       "    </tr>\n",
       "    <tr>\n",
       "      <th>3</th>\n",
       "      <td>18.0</td>\n",
       "      <td>male</td>\n",
       "      <td>33.660</td>\n",
       "      <td>0.0</td>\n",
       "      <td>no</td>\n",
       "      <td>28185.39332</td>\n",
       "      <td>11.0</td>\n",
       "      <td>700250.0</td>\n",
       "      <td>4.274774e+06</td>\n",
       "      <td>0.0</td>\n",
       "      <td>7.581968e+07</td>\n",
       "      <td>southeast</td>\n",
       "      <td>1136.39940</td>\n",
       "    </tr>\n",
       "    <tr>\n",
       "      <th>4</th>\n",
       "      <td>18.0</td>\n",
       "      <td>male</td>\n",
       "      <td>34.100</td>\n",
       "      <td>0.0</td>\n",
       "      <td>no</td>\n",
       "      <td>14697.85941</td>\n",
       "      <td>16.0</td>\n",
       "      <td>711584.0</td>\n",
       "      <td>3.787294e+06</td>\n",
       "      <td>0.0</td>\n",
       "      <td>2.301232e+07</td>\n",
       "      <td>southeast</td>\n",
       "      <td>1137.01100</td>\n",
       "    </tr>\n",
       "    <tr>\n",
       "      <th>...</th>\n",
       "      <td>...</td>\n",
       "      <td>...</td>\n",
       "      <td>...</td>\n",
       "      <td>...</td>\n",
       "      <td>...</td>\n",
       "      <td>...</td>\n",
       "      <td>...</td>\n",
       "      <td>...</td>\n",
       "      <td>...</td>\n",
       "      <td>...</td>\n",
       "      <td>...</td>\n",
       "      <td>...</td>\n",
       "      <td>...</td>\n",
       "    </tr>\n",
       "    <tr>\n",
       "      <th>1333</th>\n",
       "      <td>33.0</td>\n",
       "      <td>female</td>\n",
       "      <td>35.530</td>\n",
       "      <td>0.0</td>\n",
       "      <td>yes</td>\n",
       "      <td>63142.25346</td>\n",
       "      <td>32.0</td>\n",
       "      <td>1091267.0</td>\n",
       "      <td>1.703805e+08</td>\n",
       "      <td>2.0</td>\n",
       "      <td>3.101107e+09</td>\n",
       "      <td>northwest</td>\n",
       "      <td>55135.40209</td>\n",
       "    </tr>\n",
       "    <tr>\n",
       "      <th>1334</th>\n",
       "      <td>31.0</td>\n",
       "      <td>female</td>\n",
       "      <td>38.095</td>\n",
       "      <td>1.0</td>\n",
       "      <td>yes</td>\n",
       "      <td>43419.95227</td>\n",
       "      <td>31.0</td>\n",
       "      <td>1107872.0</td>\n",
       "      <td>2.015152e+08</td>\n",
       "      <td>2.0</td>\n",
       "      <td>3.484216e+09</td>\n",
       "      <td>northeast</td>\n",
       "      <td>58571.07448</td>\n",
       "    </tr>\n",
       "    <tr>\n",
       "      <th>1335</th>\n",
       "      <td>52.0</td>\n",
       "      <td>male</td>\n",
       "      <td>34.485</td>\n",
       "      <td>3.0</td>\n",
       "      <td>yes</td>\n",
       "      <td>52458.92353</td>\n",
       "      <td>25.0</td>\n",
       "      <td>1092005.0</td>\n",
       "      <td>2.236450e+08</td>\n",
       "      <td>2.0</td>\n",
       "      <td>3.640807e+09</td>\n",
       "      <td>northwest</td>\n",
       "      <td>60021.39897</td>\n",
       "    </tr>\n",
       "    <tr>\n",
       "      <th>1336</th>\n",
       "      <td>45.0</td>\n",
       "      <td>male</td>\n",
       "      <td>30.360</td>\n",
       "      <td>0.0</td>\n",
       "      <td>yes</td>\n",
       "      <td>69927.51664</td>\n",
       "      <td>34.0</td>\n",
       "      <td>1106821.0</td>\n",
       "      <td>2.528924e+08</td>\n",
       "      <td>3.0</td>\n",
       "      <td>4.006359e+09</td>\n",
       "      <td>southeast</td>\n",
       "      <td>62592.87309</td>\n",
       "    </tr>\n",
       "    <tr>\n",
       "      <th>1337</th>\n",
       "      <td>54.0</td>\n",
       "      <td>female</td>\n",
       "      <td>47.410</td>\n",
       "      <td>0.0</td>\n",
       "      <td>yes</td>\n",
       "      <td>63982.80926</td>\n",
       "      <td>31.0</td>\n",
       "      <td>1100328.0</td>\n",
       "      <td>2.616317e+08</td>\n",
       "      <td>3.0</td>\n",
       "      <td>4.117197e+09</td>\n",
       "      <td>southeast</td>\n",
       "      <td>63770.42801</td>\n",
       "    </tr>\n",
       "  </tbody>\n",
       "</table>\n",
       "<p>1338 rows × 13 columns</p>\n",
       "</div>"
      ],
      "text/plain": [
       "       age     sex     bmi  children smoker  Claim_Amount  past_consultations  \\\n",
       "0     18.0    male  23.210       0.0     no   29087.54313                17.0   \n",
       "1     18.0    male  30.140       0.0     no   39053.67437                 7.0   \n",
       "2     18.0    male  33.330       0.0     no   39023.62759                19.0   \n",
       "3     18.0    male  33.660       0.0     no   28185.39332                11.0   \n",
       "4     18.0    male  34.100       0.0     no   14697.85941                16.0   \n",
       "...    ...     ...     ...       ...    ...           ...                 ...   \n",
       "1333  33.0  female  35.530       0.0    yes   63142.25346                32.0   \n",
       "1334  31.0  female  38.095       1.0    yes   43419.95227                31.0   \n",
       "1335  52.0    male  34.485       3.0    yes   52458.92353                25.0   \n",
       "1336  45.0    male  30.360       0.0    yes   69927.51664                34.0   \n",
       "1337  54.0  female  47.410       0.0    yes   63982.80926                31.0   \n",
       "\n",
       "      num_of_steps  Hospital_expenditure  NUmber_of_past_hospitalizations  \\\n",
       "0         715428.0          4.720921e+06                              0.0   \n",
       "1         699157.0          4.329832e+06                              0.0   \n",
       "2         702341.0          6.884861e+06                              0.0   \n",
       "3         700250.0          4.274774e+06                              0.0   \n",
       "4         711584.0          3.787294e+06                              0.0   \n",
       "...            ...                   ...                              ...   \n",
       "1333     1091267.0          1.703805e+08                              2.0   \n",
       "1334     1107872.0          2.015152e+08                              2.0   \n",
       "1335     1092005.0          2.236450e+08                              2.0   \n",
       "1336     1106821.0          2.528924e+08                              3.0   \n",
       "1337     1100328.0          2.616317e+08                              3.0   \n",
       "\n",
       "      Anual_Salary     region      charges  \n",
       "0     5.578497e+07  southeast   1121.87390  \n",
       "1     1.370089e+07  southeast   1131.50660  \n",
       "2     7.352311e+07  southeast   1135.94070  \n",
       "3     7.581968e+07  southeast   1136.39940  \n",
       "4     2.301232e+07  southeast   1137.01100  \n",
       "...            ...        ...          ...  \n",
       "1333  3.101107e+09  northwest  55135.40209  \n",
       "1334  3.484216e+09  northeast  58571.07448  \n",
       "1335  3.640807e+09  northwest  60021.39897  \n",
       "1336  4.006359e+09  southeast  62592.87309  \n",
       "1337  4.117197e+09  southeast  63770.42801  \n",
       "\n",
       "[1338 rows x 13 columns]"
      ]
     },
     "execution_count": 10,
     "metadata": {},
     "output_type": "execute_result"
    }
   ],
   "source": [
    "data"
   ]
  },
  {
   "cell_type": "code",
   "execution_count": 11,
   "id": "a3bbadfb",
   "metadata": {},
   "outputs": [],
   "source": [
    "col=list(data.columns)"
   ]
  },
  {
   "cell_type": "code",
   "execution_count": 12,
   "id": "7c0fa1ca",
   "metadata": {},
   "outputs": [
    {
     "data": {
      "text/plain": [
       "list"
      ]
     },
     "execution_count": 12,
     "metadata": {},
     "output_type": "execute_result"
    }
   ],
   "source": [
    "type(col)"
   ]
  },
  {
   "cell_type": "code",
   "execution_count": 13,
   "id": "d1de2361",
   "metadata": {},
   "outputs": [
    {
     "data": {
      "text/html": [
       "<div>\n",
       "<style scoped>\n",
       "    .dataframe tbody tr th:only-of-type {\n",
       "        vertical-align: middle;\n",
       "    }\n",
       "\n",
       "    .dataframe tbody tr th {\n",
       "        vertical-align: top;\n",
       "    }\n",
       "\n",
       "    .dataframe thead th {\n",
       "        text-align: right;\n",
       "    }\n",
       "</style>\n",
       "<table border=\"1\" class=\"dataframe\">\n",
       "  <thead>\n",
       "    <tr style=\"text-align: right;\">\n",
       "      <th></th>\n",
       "      <th>age</th>\n",
       "      <th>bmi</th>\n",
       "      <th>children</th>\n",
       "      <th>Claim_Amount</th>\n",
       "      <th>past_consultations</th>\n",
       "      <th>num_of_steps</th>\n",
       "      <th>Hospital_expenditure</th>\n",
       "      <th>NUmber_of_past_hospitalizations</th>\n",
       "      <th>Anual_Salary</th>\n",
       "      <th>charges</th>\n",
       "    </tr>\n",
       "  </thead>\n",
       "  <tbody>\n",
       "    <tr>\n",
       "      <th>count</th>\n",
       "      <td>1329.000000</td>\n",
       "      <td>1335.000000</td>\n",
       "      <td>1333.000000</td>\n",
       "      <td>1324.000000</td>\n",
       "      <td>1332.000000</td>\n",
       "      <td>1.335000e+03</td>\n",
       "      <td>1.334000e+03</td>\n",
       "      <td>1336.000000</td>\n",
       "      <td>1.332000e+03</td>\n",
       "      <td>1338.000000</td>\n",
       "    </tr>\n",
       "    <tr>\n",
       "      <th>mean</th>\n",
       "      <td>39.310008</td>\n",
       "      <td>30.665112</td>\n",
       "      <td>1.090773</td>\n",
       "      <td>33361.327180</td>\n",
       "      <td>15.216216</td>\n",
       "      <td>9.100047e+05</td>\n",
       "      <td>1.584179e+07</td>\n",
       "      <td>1.060629</td>\n",
       "      <td>3.696849e+08</td>\n",
       "      <td>13270.422265</td>\n",
       "    </tr>\n",
       "    <tr>\n",
       "      <th>std</th>\n",
       "      <td>14.034818</td>\n",
       "      <td>6.101690</td>\n",
       "      <td>1.201856</td>\n",
       "      <td>15617.288337</td>\n",
       "      <td>7.467723</td>\n",
       "      <td>9.188612e+04</td>\n",
       "      <td>2.669305e+07</td>\n",
       "      <td>0.533583</td>\n",
       "      <td>5.668843e+08</td>\n",
       "      <td>12110.011237</td>\n",
       "    </tr>\n",
       "    <tr>\n",
       "      <th>min</th>\n",
       "      <td>18.000000</td>\n",
       "      <td>15.960000</td>\n",
       "      <td>0.000000</td>\n",
       "      <td>1920.136268</td>\n",
       "      <td>1.000000</td>\n",
       "      <td>6.954300e+05</td>\n",
       "      <td>2.945253e+04</td>\n",
       "      <td>0.000000</td>\n",
       "      <td>2.747072e+06</td>\n",
       "      <td>1121.873900</td>\n",
       "    </tr>\n",
       "    <tr>\n",
       "      <th>25%</th>\n",
       "      <td>27.000000</td>\n",
       "      <td>26.302500</td>\n",
       "      <td>0.000000</td>\n",
       "      <td>20768.860390</td>\n",
       "      <td>9.000000</td>\n",
       "      <td>8.471995e+05</td>\n",
       "      <td>4.077633e+06</td>\n",
       "      <td>1.000000</td>\n",
       "      <td>7.701932e+07</td>\n",
       "      <td>4740.287150</td>\n",
       "    </tr>\n",
       "    <tr>\n",
       "      <th>50%</th>\n",
       "      <td>39.000000</td>\n",
       "      <td>30.400000</td>\n",
       "      <td>1.000000</td>\n",
       "      <td>33700.310675</td>\n",
       "      <td>15.000000</td>\n",
       "      <td>9.143000e+05</td>\n",
       "      <td>7.490337e+06</td>\n",
       "      <td>1.000000</td>\n",
       "      <td>1.419361e+08</td>\n",
       "      <td>9382.033000</td>\n",
       "    </tr>\n",
       "    <tr>\n",
       "      <th>75%</th>\n",
       "      <td>51.000000</td>\n",
       "      <td>34.687500</td>\n",
       "      <td>2.000000</td>\n",
       "      <td>45052.331957</td>\n",
       "      <td>20.000000</td>\n",
       "      <td>9.716840e+05</td>\n",
       "      <td>1.084082e+07</td>\n",
       "      <td>1.000000</td>\n",
       "      <td>3.243499e+08</td>\n",
       "      <td>16639.912515</td>\n",
       "    </tr>\n",
       "    <tr>\n",
       "      <th>max</th>\n",
       "      <td>64.000000</td>\n",
       "      <td>53.130000</td>\n",
       "      <td>5.000000</td>\n",
       "      <td>77277.988480</td>\n",
       "      <td>40.000000</td>\n",
       "      <td>1.107872e+06</td>\n",
       "      <td>2.616317e+08</td>\n",
       "      <td>3.000000</td>\n",
       "      <td>4.117197e+09</td>\n",
       "      <td>63770.428010</td>\n",
       "    </tr>\n",
       "  </tbody>\n",
       "</table>\n",
       "</div>"
      ],
      "text/plain": [
       "               age          bmi     children  Claim_Amount  \\\n",
       "count  1329.000000  1335.000000  1333.000000   1324.000000   \n",
       "mean     39.310008    30.665112     1.090773  33361.327180   \n",
       "std      14.034818     6.101690     1.201856  15617.288337   \n",
       "min      18.000000    15.960000     0.000000   1920.136268   \n",
       "25%      27.000000    26.302500     0.000000  20768.860390   \n",
       "50%      39.000000    30.400000     1.000000  33700.310675   \n",
       "75%      51.000000    34.687500     2.000000  45052.331957   \n",
       "max      64.000000    53.130000     5.000000  77277.988480   \n",
       "\n",
       "       past_consultations  num_of_steps  Hospital_expenditure  \\\n",
       "count         1332.000000  1.335000e+03          1.334000e+03   \n",
       "mean            15.216216  9.100047e+05          1.584179e+07   \n",
       "std              7.467723  9.188612e+04          2.669305e+07   \n",
       "min              1.000000  6.954300e+05          2.945253e+04   \n",
       "25%              9.000000  8.471995e+05          4.077633e+06   \n",
       "50%             15.000000  9.143000e+05          7.490337e+06   \n",
       "75%             20.000000  9.716840e+05          1.084082e+07   \n",
       "max             40.000000  1.107872e+06          2.616317e+08   \n",
       "\n",
       "       NUmber_of_past_hospitalizations  Anual_Salary       charges  \n",
       "count                      1336.000000  1.332000e+03   1338.000000  \n",
       "mean                          1.060629  3.696849e+08  13270.422265  \n",
       "std                           0.533583  5.668843e+08  12110.011237  \n",
       "min                           0.000000  2.747072e+06   1121.873900  \n",
       "25%                           1.000000  7.701932e+07   4740.287150  \n",
       "50%                           1.000000  1.419361e+08   9382.033000  \n",
       "75%                           1.000000  3.243499e+08  16639.912515  \n",
       "max                           3.000000  4.117197e+09  63770.428010  "
      ]
     },
     "execution_count": 13,
     "metadata": {},
     "output_type": "execute_result"
    }
   ],
   "source": [
    "#statistical analysis\n",
    "data.describe()"
   ]
  },
  {
   "cell_type": "code",
   "execution_count": 14,
   "id": "6f4fbc7f",
   "metadata": {},
   "outputs": [
    {
     "data": {
      "text/html": [
       "<div>\n",
       "<style scoped>\n",
       "    .dataframe tbody tr th:only-of-type {\n",
       "        vertical-align: middle;\n",
       "    }\n",
       "\n",
       "    .dataframe tbody tr th {\n",
       "        vertical-align: top;\n",
       "    }\n",
       "\n",
       "    .dataframe thead th {\n",
       "        text-align: right;\n",
       "    }\n",
       "</style>\n",
       "<table border=\"1\" class=\"dataframe\">\n",
       "  <thead>\n",
       "    <tr style=\"text-align: right;\">\n",
       "      <th></th>\n",
       "      <th>age</th>\n",
       "      <th>sex</th>\n",
       "      <th>bmi</th>\n",
       "      <th>children</th>\n",
       "      <th>smoker</th>\n",
       "      <th>Claim_Amount</th>\n",
       "      <th>past_consultations</th>\n",
       "      <th>num_of_steps</th>\n",
       "      <th>Hospital_expenditure</th>\n",
       "      <th>NUmber_of_past_hospitalizations</th>\n",
       "      <th>Anual_Salary</th>\n",
       "      <th>region</th>\n",
       "      <th>charges</th>\n",
       "    </tr>\n",
       "  </thead>\n",
       "  <tbody>\n",
       "    <tr>\n",
       "      <th>0</th>\n",
       "      <td>18.0</td>\n",
       "      <td>male</td>\n",
       "      <td>23.210</td>\n",
       "      <td>0.0</td>\n",
       "      <td>no</td>\n",
       "      <td>29087.54313</td>\n",
       "      <td>17.0</td>\n",
       "      <td>715428.0</td>\n",
       "      <td>4.720921e+06</td>\n",
       "      <td>0.0</td>\n",
       "      <td>5.578497e+07</td>\n",
       "      <td>southeast</td>\n",
       "      <td>1121.87390</td>\n",
       "    </tr>\n",
       "    <tr>\n",
       "      <th>1</th>\n",
       "      <td>18.0</td>\n",
       "      <td>male</td>\n",
       "      <td>30.140</td>\n",
       "      <td>0.0</td>\n",
       "      <td>no</td>\n",
       "      <td>39053.67437</td>\n",
       "      <td>7.0</td>\n",
       "      <td>699157.0</td>\n",
       "      <td>4.329832e+06</td>\n",
       "      <td>0.0</td>\n",
       "      <td>1.370089e+07</td>\n",
       "      <td>southeast</td>\n",
       "      <td>1131.50660</td>\n",
       "    </tr>\n",
       "    <tr>\n",
       "      <th>2</th>\n",
       "      <td>18.0</td>\n",
       "      <td>male</td>\n",
       "      <td>33.330</td>\n",
       "      <td>0.0</td>\n",
       "      <td>no</td>\n",
       "      <td>39023.62759</td>\n",
       "      <td>19.0</td>\n",
       "      <td>702341.0</td>\n",
       "      <td>6.884861e+06</td>\n",
       "      <td>0.0</td>\n",
       "      <td>7.352311e+07</td>\n",
       "      <td>southeast</td>\n",
       "      <td>1135.94070</td>\n",
       "    </tr>\n",
       "    <tr>\n",
       "      <th>3</th>\n",
       "      <td>18.0</td>\n",
       "      <td>male</td>\n",
       "      <td>33.660</td>\n",
       "      <td>0.0</td>\n",
       "      <td>no</td>\n",
       "      <td>28185.39332</td>\n",
       "      <td>11.0</td>\n",
       "      <td>700250.0</td>\n",
       "      <td>4.274774e+06</td>\n",
       "      <td>0.0</td>\n",
       "      <td>7.581968e+07</td>\n",
       "      <td>southeast</td>\n",
       "      <td>1136.39940</td>\n",
       "    </tr>\n",
       "    <tr>\n",
       "      <th>4</th>\n",
       "      <td>18.0</td>\n",
       "      <td>male</td>\n",
       "      <td>34.100</td>\n",
       "      <td>0.0</td>\n",
       "      <td>no</td>\n",
       "      <td>14697.85941</td>\n",
       "      <td>16.0</td>\n",
       "      <td>711584.0</td>\n",
       "      <td>3.787294e+06</td>\n",
       "      <td>0.0</td>\n",
       "      <td>2.301232e+07</td>\n",
       "      <td>southeast</td>\n",
       "      <td>1137.01100</td>\n",
       "    </tr>\n",
       "    <tr>\n",
       "      <th>...</th>\n",
       "      <td>...</td>\n",
       "      <td>...</td>\n",
       "      <td>...</td>\n",
       "      <td>...</td>\n",
       "      <td>...</td>\n",
       "      <td>...</td>\n",
       "      <td>...</td>\n",
       "      <td>...</td>\n",
       "      <td>...</td>\n",
       "      <td>...</td>\n",
       "      <td>...</td>\n",
       "      <td>...</td>\n",
       "      <td>...</td>\n",
       "    </tr>\n",
       "    <tr>\n",
       "      <th>1333</th>\n",
       "      <td>33.0</td>\n",
       "      <td>female</td>\n",
       "      <td>35.530</td>\n",
       "      <td>0.0</td>\n",
       "      <td>yes</td>\n",
       "      <td>63142.25346</td>\n",
       "      <td>32.0</td>\n",
       "      <td>1091267.0</td>\n",
       "      <td>1.703805e+08</td>\n",
       "      <td>2.0</td>\n",
       "      <td>3.101107e+09</td>\n",
       "      <td>northwest</td>\n",
       "      <td>55135.40209</td>\n",
       "    </tr>\n",
       "    <tr>\n",
       "      <th>1334</th>\n",
       "      <td>31.0</td>\n",
       "      <td>female</td>\n",
       "      <td>38.095</td>\n",
       "      <td>1.0</td>\n",
       "      <td>yes</td>\n",
       "      <td>43419.95227</td>\n",
       "      <td>31.0</td>\n",
       "      <td>1107872.0</td>\n",
       "      <td>2.015152e+08</td>\n",
       "      <td>2.0</td>\n",
       "      <td>3.484216e+09</td>\n",
       "      <td>northeast</td>\n",
       "      <td>58571.07448</td>\n",
       "    </tr>\n",
       "    <tr>\n",
       "      <th>1335</th>\n",
       "      <td>52.0</td>\n",
       "      <td>male</td>\n",
       "      <td>34.485</td>\n",
       "      <td>3.0</td>\n",
       "      <td>yes</td>\n",
       "      <td>52458.92353</td>\n",
       "      <td>25.0</td>\n",
       "      <td>1092005.0</td>\n",
       "      <td>2.236450e+08</td>\n",
       "      <td>2.0</td>\n",
       "      <td>3.640807e+09</td>\n",
       "      <td>northwest</td>\n",
       "      <td>60021.39897</td>\n",
       "    </tr>\n",
       "    <tr>\n",
       "      <th>1336</th>\n",
       "      <td>45.0</td>\n",
       "      <td>male</td>\n",
       "      <td>30.360</td>\n",
       "      <td>0.0</td>\n",
       "      <td>yes</td>\n",
       "      <td>69927.51664</td>\n",
       "      <td>34.0</td>\n",
       "      <td>1106821.0</td>\n",
       "      <td>2.528924e+08</td>\n",
       "      <td>3.0</td>\n",
       "      <td>4.006359e+09</td>\n",
       "      <td>southeast</td>\n",
       "      <td>62592.87309</td>\n",
       "    </tr>\n",
       "    <tr>\n",
       "      <th>1337</th>\n",
       "      <td>54.0</td>\n",
       "      <td>female</td>\n",
       "      <td>47.410</td>\n",
       "      <td>0.0</td>\n",
       "      <td>yes</td>\n",
       "      <td>63982.80926</td>\n",
       "      <td>31.0</td>\n",
       "      <td>1100328.0</td>\n",
       "      <td>2.616317e+08</td>\n",
       "      <td>3.0</td>\n",
       "      <td>4.117197e+09</td>\n",
       "      <td>southeast</td>\n",
       "      <td>63770.42801</td>\n",
       "    </tr>\n",
       "  </tbody>\n",
       "</table>\n",
       "<p>1338 rows × 13 columns</p>\n",
       "</div>"
      ],
      "text/plain": [
       "       age     sex     bmi  children smoker  Claim_Amount  past_consultations  \\\n",
       "0     18.0    male  23.210       0.0     no   29087.54313                17.0   \n",
       "1     18.0    male  30.140       0.0     no   39053.67437                 7.0   \n",
       "2     18.0    male  33.330       0.0     no   39023.62759                19.0   \n",
       "3     18.0    male  33.660       0.0     no   28185.39332                11.0   \n",
       "4     18.0    male  34.100       0.0     no   14697.85941                16.0   \n",
       "...    ...     ...     ...       ...    ...           ...                 ...   \n",
       "1333  33.0  female  35.530       0.0    yes   63142.25346                32.0   \n",
       "1334  31.0  female  38.095       1.0    yes   43419.95227                31.0   \n",
       "1335  52.0    male  34.485       3.0    yes   52458.92353                25.0   \n",
       "1336  45.0    male  30.360       0.0    yes   69927.51664                34.0   \n",
       "1337  54.0  female  47.410       0.0    yes   63982.80926                31.0   \n",
       "\n",
       "      num_of_steps  Hospital_expenditure  NUmber_of_past_hospitalizations  \\\n",
       "0         715428.0          4.720921e+06                              0.0   \n",
       "1         699157.0          4.329832e+06                              0.0   \n",
       "2         702341.0          6.884861e+06                              0.0   \n",
       "3         700250.0          4.274774e+06                              0.0   \n",
       "4         711584.0          3.787294e+06                              0.0   \n",
       "...            ...                   ...                              ...   \n",
       "1333     1091267.0          1.703805e+08                              2.0   \n",
       "1334     1107872.0          2.015152e+08                              2.0   \n",
       "1335     1092005.0          2.236450e+08                              2.0   \n",
       "1336     1106821.0          2.528924e+08                              3.0   \n",
       "1337     1100328.0          2.616317e+08                              3.0   \n",
       "\n",
       "      Anual_Salary     region      charges  \n",
       "0     5.578497e+07  southeast   1121.87390  \n",
       "1     1.370089e+07  southeast   1131.50660  \n",
       "2     7.352311e+07  southeast   1135.94070  \n",
       "3     7.581968e+07  southeast   1136.39940  \n",
       "4     2.301232e+07  southeast   1137.01100  \n",
       "...            ...        ...          ...  \n",
       "1333  3.101107e+09  northwest  55135.40209  \n",
       "1334  3.484216e+09  northeast  58571.07448  \n",
       "1335  3.640807e+09  northwest  60021.39897  \n",
       "1336  4.006359e+09  southeast  62592.87309  \n",
       "1337  4.117197e+09  southeast  63770.42801  \n",
       "\n",
       "[1338 rows x 13 columns]"
      ]
     },
     "execution_count": 14,
     "metadata": {},
     "output_type": "execute_result"
    }
   ],
   "source": [
    "data"
   ]
  },
  {
   "cell_type": "code",
   "execution_count": 15,
   "id": "0fe919d6",
   "metadata": {},
   "outputs": [
    {
     "data": {
      "text/plain": [
       "0    no\n",
       "Name: smoker, dtype: object"
      ]
     },
     "execution_count": 15,
     "metadata": {},
     "output_type": "execute_result"
    }
   ],
   "source": [
    "data['smoker'].mode()"
   ]
  },
  {
   "cell_type": "code",
   "execution_count": 16,
   "id": "0a23aa03",
   "metadata": {},
   "outputs": [],
   "source": [
    "# Replacing the null values with mean and mode using for loop\n",
    "\n",
    "for i in col:\n",
    "    if data[i].dtypes=='object':\n",
    "        data[i]=data[i].fillna(data[i].mode()[0])\n",
    "    else:\n",
    "        data[i]=data[i].fillna(data[i].mean())"
   ]
  },
  {
   "cell_type": "code",
   "execution_count": 17,
   "id": "10f3d4a1",
   "metadata": {},
   "outputs": [
    {
     "data": {
      "text/plain": [
       "age                                0\n",
       "sex                                0\n",
       "bmi                                0\n",
       "children                           0\n",
       "smoker                             0\n",
       "Claim_Amount                       0\n",
       "past_consultations                 0\n",
       "num_of_steps                       0\n",
       "Hospital_expenditure               0\n",
       "NUmber_of_past_hospitalizations    0\n",
       "Anual_Salary                       0\n",
       "region                             0\n",
       "charges                            0\n",
       "dtype: int64"
      ]
     },
     "execution_count": 17,
     "metadata": {},
     "output_type": "execute_result"
    }
   ],
   "source": [
    "data.isnull().sum()"
   ]
  },
  {
   "cell_type": "code",
   "execution_count": 18,
   "id": "05431c5b",
   "metadata": {},
   "outputs": [
    {
     "data": {
      "text/plain": [
       "(1338, 13)"
      ]
     },
     "execution_count": 18,
     "metadata": {},
     "output_type": "execute_result"
    }
   ],
   "source": [
    "data.shape"
   ]
  },
  {
   "cell_type": "code",
   "execution_count": 19,
   "id": "80e755eb",
   "metadata": {},
   "outputs": [
    {
     "data": {
      "text/plain": [
       "dtype('float64')"
      ]
     },
     "execution_count": 19,
     "metadata": {},
     "output_type": "execute_result"
    }
   ],
   "source": [
    "data['age'].dtype"
   ]
  },
  {
   "cell_type": "code",
   "execution_count": 20,
   "id": "e8bc54f4",
   "metadata": {},
   "outputs": [
    {
     "data": {
      "text/plain": [
       "['age',\n",
       " 'sex',\n",
       " 'bmi',\n",
       " 'children',\n",
       " 'smoker',\n",
       " 'Claim_Amount',\n",
       " 'past_consultations',\n",
       " 'num_of_steps',\n",
       " 'Hospital_expenditure',\n",
       " 'NUmber_of_past_hospitalizations',\n",
       " 'Anual_Salary',\n",
       " 'region',\n",
       " 'charges']"
      ]
     },
     "execution_count": 20,
     "metadata": {},
     "output_type": "execute_result"
    }
   ],
   "source": [
    "col"
   ]
  },
  {
   "cell_type": "code",
   "execution_count": 21,
   "id": "31fa0b43",
   "metadata": {},
   "outputs": [],
   "source": [
    "# To check the distribution of the data\n",
    "\n",
    "import seaborn as sns"
   ]
  },
  {
   "cell_type": "code",
   "execution_count": 22,
   "id": "0ada0838",
   "metadata": {},
   "outputs": [
    {
     "data": {
      "image/png": "[encoded data removed]",
      "text/plain": [
       "<Figure size 640x480 with 1 Axes>"
      ]
     },
     "metadata": {},
     "output_type": "display_data"
    },
    {
     "data": {
      "image/png": "[encoded data removed]",
      "text/plain": [
       "<Figure size 640x480 with 1 Axes>"
      ]
     },
     "metadata": {},
     "output_type": "display_data"
    },
    {
     "data": {
      "image/png": "[encoded data removed]",
      "text/plain": [
       "<Figure size 640x480 with 1 Axes>"
      ]
     },
     "metadata": {},
     "output_type": "display_data"
    },
    {
     "data": {
      "image/png": "[encoded data removed]",
      "text/plain": [
       "<Figure size 640x480 with 1 Axes>"
      ]
     },
     "metadata": {},
     "output_type": "display_data"
    },
    {
     "data": {
      "image/png": "[encoded data removed]",
      "text/plain": [
       "<Figure size 640x480 with 1 Axes>"
      ]
     },
     "metadata": {},
     "output_type": "display_data"
    },
    {
     "data": {
      "image/png": "[encoded data removed]",
      "text/plain": [
       "<Figure size 640x480 with 1 Axes>"
      ]
     },
     "metadata": {},
     "output_type": "display_data"
    },
    {
     "data": {
      "image/png": "[encoded data removed]",
      "text/plain": [
       "<Figure size 640x480 with 1 Axes>"
      ]
     },
     "metadata": {},
     "output_type": "display_data"
    },
    {
     "data": {
      "image/png": "[encoded data removed]",
      "text/plain": [
       "<Figure size 640x480 with 1 Axes>"
      ]
     },
     "metadata": {},
     "output_type": "display_data"
    },
    {
     "data": {
      "image/png": "[encoded data removed]",
      "text/plain": [
       "<Figure size 640x480 with 1 Axes>"
      ]
     },
     "metadata": {},
     "output_type": "display_data"
    },
    {
     "data": {
      "image/png": "[encoded data removed]",
      "text/plain": [
       "<Figure size 640x480 with 1 Axes>"
      ]
     },
     "metadata": {},
     "output_type": "display_data"
    }
   ],
   "source": [
    "for col_name in col:\n",
    "    if(data[col_name].dtypes=='int64' or data[col_name].dtypes=='float64'):\n",
    "        plt.hist(data[col_name])\n",
    "        plt.xlabel(col_name)\n",
    "        plt.ylabel('count')\n",
    "        plt.show()"
   ]
  },
  {
   "cell_type": "code",
   "execution_count": 23,
   "id": "de1578ed",
   "metadata": {},
   "outputs": [
    {
     "data": {
      "image/png": "[encoded data removed]",
      "text/plain": [
       "<Figure size 640x480 with 1 Axes>"
      ]
     },
     "metadata": {},
     "output_type": "display_data"
    },
    {
     "data": {
      "image/png": "[encoded data removed]",
      "text/plain": [
       "<Figure size 640x480 with 1 Axes>"
      ]
     },
     "metadata": {},
     "output_type": "display_data"
    },
    {
     "data": {
      "image/png": "[encoded data removed]",
      "text/plain": [
       "<Figure size 640x480 with 1 Axes>"
      ]
     },
     "metadata": {},
     "output_type": "display_data"
    },
    {
     "data": {
      "image/png": "[encoded data removed]",
      "text/plain": [
       "<Figure size 640x480 with 1 Axes>"
      ]
     },
     "metadata": {},
     "output_type": "display_data"
    },
    {
     "data": {
      "image/png": "[encoded data removed]",
      "text/plain": [
       "<Figure size 640x480 with 1 Axes>"
      ]
     },
     "metadata": {},
     "output_type": "display_data"
    },
    {
     "data": {
      "image/png": "[encoded data removed]",
      "text/plain": [
       "<Figure size 640x480 with 1 Axes>"
      ]
     },
     "metadata": {},
     "output_type": "display_data"
    },
    {
     "data": {
      "image/png": "[encoded data removed]",
      "text/plain": [
       "<Figure size 640x480 with 1 Axes>"
      ]
     },
     "metadata": {},
     "output_type": "display_data"
    },
    {
     "data": {
      "image/png": "[encoded data removed]",
      "text/plain": [
       "<Figure size 640x480 with 1 Axes>"
      ]
     },
     "metadata": {},
     "output_type": "display_data"
    },
    {
     "data": {
      "image/png": "[encoded data removed]",
      "text/plain": [
       "<Figure size 640x480 with 1 Axes>"
      ]
     },
     "metadata": {},
     "output_type": "display_data"
    },
    {
     "data": {
      "image/png": "[encoded data removed]",
      "text/plain": [
       "<Figure size 640x480 with 1 Axes>"
      ]
     },
     "metadata": {},
     "output_type": "display_data"
    }
   ],
   "source": [
    "for col_name in col:\n",
    "    if (data[col_name].dtypes=='int64' or data[col_name].dtypes=='float64'):\n",
    "        \n",
    "        plt.boxplot(data[col_name])\n",
    "        plt.xlabel(col_name)\n",
    "        plt.ylabel('count')\n",
    "        plt.show()"
   ]
  },
  {
   "cell_type": "code",
   "execution_count": 24,
   "id": "2444b2f1",
   "metadata": {},
   "outputs": [],
   "source": [
    "#Treating outliers"
   ]
  },
  {
   "cell_type": "code",
   "execution_count": 25,
   "id": "488ab049",
   "metadata": {},
   "outputs": [],
   "source": [
    "Q1=data.bmi.quantile(0.25)\n",
    "Q3=data.bmi.quantile(0.75)"
   ]
  },
  {
   "cell_type": "code",
   "execution_count": 26,
   "id": "54110cab",
   "metadata": {},
   "outputs": [
    {
     "data": {
      "text/plain": [
       "26.315"
      ]
     },
     "execution_count": 26,
     "metadata": {},
     "output_type": "execute_result"
    }
   ],
   "source": [
    "Q1"
   ]
  },
  {
   "cell_type": "code",
   "execution_count": 27,
   "id": "bd7dc609",
   "metadata": {},
   "outputs": [
    {
     "data": {
      "text/plain": [
       "34.65625"
      ]
     },
     "execution_count": 27,
     "metadata": {},
     "output_type": "execute_result"
    }
   ],
   "source": [
    "Q3"
   ]
  },
  {
   "cell_type": "code",
   "execution_count": 28,
   "id": "71966729",
   "metadata": {},
   "outputs": [],
   "source": [
    "IQR=Q3-Q1"
   ]
  },
  {
   "cell_type": "code",
   "execution_count": 29,
   "id": "20de9af9",
   "metadata": {},
   "outputs": [
    {
     "data": {
      "text/plain": [
       "8.341249999999999"
      ]
     },
     "execution_count": 29,
     "metadata": {},
     "output_type": "execute_result"
    }
   ],
   "source": [
    "IQR"
   ]
  },
  {
   "cell_type": "code",
   "execution_count": 30,
   "id": "d84710b8",
   "metadata": {},
   "outputs": [
    {
     "data": {
      "text/plain": [
       "13.803125000000003"
      ]
     },
     "execution_count": 30,
     "metadata": {},
     "output_type": "execute_result"
    }
   ],
   "source": [
    "#To know the upper limit\n",
    "Q1-1.5*IQR"
   ]
  },
  {
   "cell_type": "code",
   "execution_count": 31,
   "id": "037283c9",
   "metadata": {},
   "outputs": [
    {
     "data": {
      "text/plain": [
       "47.168124999999996"
      ]
     },
     "execution_count": 31,
     "metadata": {},
     "output_type": "execute_result"
    }
   ],
   "source": [
    "#To know the lower limit\n",
    "Q3+1.5*IQR"
   ]
  },
  {
   "cell_type": "code",
   "execution_count": 32,
   "id": "38170257",
   "metadata": {},
   "outputs": [
    {
     "data": {
      "text/plain": [
       "Index(['age', 'sex', 'bmi', 'children', 'smoker', 'Claim_Amount',\n",
       "       'past_consultations', 'num_of_steps', 'Hospital_expenditure',\n",
       "       'NUmber_of_past_hospitalizations', 'Anual_Salary', 'region', 'charges'],\n",
       "      dtype='object')"
      ]
     },
     "execution_count": 32,
     "metadata": {},
     "output_type": "execute_result"
    }
   ],
   "source": [
    "data.columns"
   ]
  },
  {
   "cell_type": "code",
   "execution_count": 33,
   "id": "b06cd9ee",
   "metadata": {},
   "outputs": [],
   "source": [
    "Q1=data.bmi.quantile(0.25)\n",
    "Q3=data.bmi.quantile(0.75)\n",
    "IQR=Q3-Q1\n",
    "data=data[(data.bmi>=Q1-1.5*IQR) & (data.bmi<=Q3+1.5*IQR)]\n",
    "\n",
    "Q1=data.past_consultations.quantile(0.25)\n",
    "Q3=data.past_consultations.quantile(0.75)\n",
    "IQR=Q3-Q1\n",
    "data=data[(data.past_consultations>=Q1-1.5*IQR)&(data.past_consultations<=Q3+1.5*IQR)]\n",
    "\n",
    "Q1=data.Hospital_expenditure.quantile(0.25)\n",
    "Q3=data.Hospital_expenditure.quantile(0.75)\n",
    "IQR=Q3-Q1\n",
    "data=data[(data.Hospital_expenditure>=Q1-1.5*IQR)&(data.Hospital_expenditure<=Q1+1.5*IQR)]\n",
    "\n",
    "Q1 = data.Anual_Salary.quantile(0.25)\n",
    "Q3 = data.Anual_Salary.quantile(0.75)\n",
    "IQR = Q3 - Q1\n",
    "data = data[(data.Anual_Salary >= Q1 - 1.5*IQR) & (data.Anual_Salary <= Q3 + 1.5*IQR)]\n"
   ]
  },
  {
   "cell_type": "code",
   "execution_count": 34,
   "id": "caf74f8f",
   "metadata": {},
   "outputs": [
    {
     "data": {
      "image/png": "[encoded data removed]",
      "text/plain": [
       "<Figure size 640x480 with 1 Axes>"
      ]
     },
     "metadata": {},
     "output_type": "display_data"
    },
    {
     "data": {
      "image/png": "[encoded data removed]",
      "text/plain": [
       "<Figure size 640x480 with 1 Axes>"
      ]
     },
     "metadata": {},
     "output_type": "display_data"
    },
    {
     "data": {
      "image/png": "[encoded data removed]",
      "text/plain": [
       "<Figure size 640x480 with 1 Axes>"
      ]
     },
     "metadata": {},
     "output_type": "display_data"
    },
    {
     "data": {
      "image/png": "[encoded data removed]",
      "text/plain": [
       "<Figure size 640x480 with 1 Axes>"
      ]
     },
     "metadata": {},
     "output_type": "display_data"
    },
    {
     "data": {
      "image/png": "[encoded data removed]",
      "text/plain": [
       "<Figure size 640x480 with 1 Axes>"
      ]
     },
     "metadata": {},
     "output_type": "display_data"
    },
    {
     "data": {
      "image/png": "[encoded data removed]",
      "text/plain": [
       "<Figure size 640x480 with 1 Axes>"
      ]
     },
     "metadata": {},
     "output_type": "display_data"
    },
    {
     "data": {
      "image/png": "[encoded data removed]",
      "text/plain": [
       "<Figure size 640x480 with 1 Axes>"
      ]
     },
     "metadata": {},
     "output_type": "display_data"
    },
    {
     "data": {
      "image/png": "[encoded data removed]",
      "text/plain": [
       "<Figure size 640x480 with 1 Axes>"
      ]
     },
     "metadata": {},
     "output_type": "display_data"
    },
    {
     "data": {
      "image/png": "[encoded data removed]",
      "text/plain": [
       "<Figure size 640x480 with 1 Axes>"
      ]
     },
     "metadata": {},
     "output_type": "display_data"
    },
    {
     "data": {
      "image/png": "[encoded data removed]",
      "text/plain": [
       "<Figure size 640x480 with 1 Axes>"
      ]
     },
     "metadata": {},
     "output_type": "display_data"
    }
   ],
   "source": [
    "for col_name in col:\n",
    "    if(data[col_name].dtypes=='int64' or data[col_name].dtypes=='float64'):\n",
    "        plt.boxplot(data[col_name])\n",
    "        plt.xlabel(col_name)\n",
    "        plt.ylabel('count')\n",
    "        plt.show()"
   ]
  },
  {
   "cell_type": "code",
   "execution_count": 35,
   "id": "d5192864",
   "metadata": {},
   "outputs": [
    {
     "name": "stderr",
     "output_type": "stream",
     "text": [
      "C:\\Users\\kalya\\AppData\\Local\\Temp\\ipykernel_12480\\3123527992.py:2: FutureWarning: The default value of numeric_only in DataFrame.corr is deprecated. In a future version, it will default to False. Select only valid columns or specify the value of numeric_only to silence this warning.\n",
      "  data.corr()\n"
     ]
    },
    {
     "data": {
      "text/html": [
       "<div>\n",
       "<style scoped>\n",
       "    .dataframe tbody tr th:only-of-type {\n",
       "        vertical-align: middle;\n",
       "    }\n",
       "\n",
       "    .dataframe tbody tr th {\n",
       "        vertical-align: top;\n",
       "    }\n",
       "\n",
       "    .dataframe thead th {\n",
       "        text-align: right;\n",
       "    }\n",
       "</style>\n",
       "<table border=\"1\" class=\"dataframe\">\n",
       "  <thead>\n",
       "    <tr style=\"text-align: right;\">\n",
       "      <th></th>\n",
       "      <th>age</th>\n",
       "      <th>bmi</th>\n",
       "      <th>children</th>\n",
       "      <th>Claim_Amount</th>\n",
       "      <th>past_consultations</th>\n",
       "      <th>num_of_steps</th>\n",
       "      <th>Hospital_expenditure</th>\n",
       "      <th>NUmber_of_past_hospitalizations</th>\n",
       "      <th>Anual_Salary</th>\n",
       "      <th>charges</th>\n",
       "    </tr>\n",
       "  </thead>\n",
       "  <tbody>\n",
       "    <tr>\n",
       "      <th>age</th>\n",
       "      <td>1.000000</td>\n",
       "      <td>0.156422</td>\n",
       "      <td>0.040293</td>\n",
       "      <td>0.122544</td>\n",
       "      <td>0.184751</td>\n",
       "      <td>0.787680</td>\n",
       "      <td>0.193333</td>\n",
       "      <td>0.524443</td>\n",
       "      <td>0.589127</td>\n",
       "      <td>0.745373</td>\n",
       "    </tr>\n",
       "    <tr>\n",
       "      <th>bmi</th>\n",
       "      <td>0.156422</td>\n",
       "      <td>1.000000</td>\n",
       "      <td>0.010599</td>\n",
       "      <td>0.016560</td>\n",
       "      <td>0.030266</td>\n",
       "      <td>0.061264</td>\n",
       "      <td>0.042963</td>\n",
       "      <td>0.023200</td>\n",
       "      <td>0.035083</td>\n",
       "      <td>0.040202</td>\n",
       "    </tr>\n",
       "    <tr>\n",
       "      <th>children</th>\n",
       "      <td>0.040293</td>\n",
       "      <td>0.010599</td>\n",
       "      <td>1.000000</td>\n",
       "      <td>0.039579</td>\n",
       "      <td>0.044888</td>\n",
       "      <td>0.226956</td>\n",
       "      <td>-0.011256</td>\n",
       "      <td>0.315561</td>\n",
       "      <td>0.064808</td>\n",
       "      <td>0.136680</td>\n",
       "    </tr>\n",
       "    <tr>\n",
       "      <th>Claim_Amount</th>\n",
       "      <td>0.122544</td>\n",
       "      <td>0.016560</td>\n",
       "      <td>0.039579</td>\n",
       "      <td>1.000000</td>\n",
       "      <td>0.067288</td>\n",
       "      <td>0.181663</td>\n",
       "      <td>0.039551</td>\n",
       "      <td>0.108204</td>\n",
       "      <td>0.158898</td>\n",
       "      <td>0.189897</td>\n",
       "    </tr>\n",
       "    <tr>\n",
       "      <th>past_consultations</th>\n",
       "      <td>0.184751</td>\n",
       "      <td>0.030266</td>\n",
       "      <td>0.044888</td>\n",
       "      <td>0.067288</td>\n",
       "      <td>1.000000</td>\n",
       "      <td>0.249169</td>\n",
       "      <td>0.060653</td>\n",
       "      <td>0.133985</td>\n",
       "      <td>0.247507</td>\n",
       "      <td>0.264563</td>\n",
       "    </tr>\n",
       "    <tr>\n",
       "      <th>num_of_steps</th>\n",
       "      <td>0.787680</td>\n",
       "      <td>0.061264</td>\n",
       "      <td>0.226956</td>\n",
       "      <td>0.181663</td>\n",
       "      <td>0.249169</td>\n",
       "      <td>1.000000</td>\n",
       "      <td>0.273186</td>\n",
       "      <td>0.717061</td>\n",
       "      <td>0.788480</td>\n",
       "      <td>0.940102</td>\n",
       "    </tr>\n",
       "    <tr>\n",
       "      <th>Hospital_expenditure</th>\n",
       "      <td>0.193333</td>\n",
       "      <td>0.042963</td>\n",
       "      <td>-0.011256</td>\n",
       "      <td>0.039551</td>\n",
       "      <td>0.060653</td>\n",
       "      <td>0.273186</td>\n",
       "      <td>1.000000</td>\n",
       "      <td>0.127605</td>\n",
       "      <td>0.314531</td>\n",
       "      <td>0.312475</td>\n",
       "    </tr>\n",
       "    <tr>\n",
       "      <th>NUmber_of_past_hospitalizations</th>\n",
       "      <td>0.524443</td>\n",
       "      <td>0.023200</td>\n",
       "      <td>0.315561</td>\n",
       "      <td>0.108204</td>\n",
       "      <td>0.133985</td>\n",
       "      <td>0.717061</td>\n",
       "      <td>0.127605</td>\n",
       "      <td>1.000000</td>\n",
       "      <td>0.391157</td>\n",
       "      <td>0.548463</td>\n",
       "    </tr>\n",
       "    <tr>\n",
       "      <th>Anual_Salary</th>\n",
       "      <td>0.589127</td>\n",
       "      <td>0.035083</td>\n",
       "      <td>0.064808</td>\n",
       "      <td>0.158898</td>\n",
       "      <td>0.247507</td>\n",
       "      <td>0.788480</td>\n",
       "      <td>0.314531</td>\n",
       "      <td>0.391157</td>\n",
       "      <td>1.000000</td>\n",
       "      <td>0.900344</td>\n",
       "    </tr>\n",
       "    <tr>\n",
       "      <th>charges</th>\n",
       "      <td>0.745373</td>\n",
       "      <td>0.040202</td>\n",
       "      <td>0.136680</td>\n",
       "      <td>0.189897</td>\n",
       "      <td>0.264563</td>\n",
       "      <td>0.940102</td>\n",
       "      <td>0.312475</td>\n",
       "      <td>0.548463</td>\n",
       "      <td>0.900344</td>\n",
       "      <td>1.000000</td>\n",
       "    </tr>\n",
       "  </tbody>\n",
       "</table>\n",
       "</div>"
      ],
      "text/plain": [
       "                                      age       bmi  children  Claim_Amount  \\\n",
       "age                              1.000000  0.156422  0.040293      0.122544   \n",
       "bmi                              0.156422  1.000000  0.010599      0.016560   \n",
       "children                         0.040293  0.010599  1.000000      0.039579   \n",
       "Claim_Amount                     0.122544  0.016560  0.039579      1.000000   \n",
       "past_consultations               0.184751  0.030266  0.044888      0.067288   \n",
       "num_of_steps                     0.787680  0.061264  0.226956      0.181663   \n",
       "Hospital_expenditure             0.193333  0.042963 -0.011256      0.039551   \n",
       "NUmber_of_past_hospitalizations  0.524443  0.023200  0.315561      0.108204   \n",
       "Anual_Salary                     0.589127  0.035083  0.064808      0.158898   \n",
       "charges                          0.745373  0.040202  0.136680      0.189897   \n",
       "\n",
       "                                 past_consultations  num_of_steps  \\\n",
       "age                                        0.184751      0.787680   \n",
       "bmi                                        0.030266      0.061264   \n",
       "children                                   0.044888      0.226956   \n",
       "Claim_Amount                               0.067288      0.181663   \n",
       "past_consultations                         1.000000      0.249169   \n",
       "num_of_steps                               0.249169      1.000000   \n",
       "Hospital_expenditure                       0.060653      0.273186   \n",
       "NUmber_of_past_hospitalizations            0.133985      0.717061   \n",
       "Anual_Salary                               0.247507      0.788480   \n",
       "charges                                    0.264563      0.940102   \n",
       "\n",
       "                                 Hospital_expenditure  \\\n",
       "age                                          0.193333   \n",
       "bmi                                          0.042963   \n",
       "children                                    -0.011256   \n",
       "Claim_Amount                                 0.039551   \n",
       "past_consultations                           0.060653   \n",
       "num_of_steps                                 0.273186   \n",
       "Hospital_expenditure                         1.000000   \n",
       "NUmber_of_past_hospitalizations              0.127605   \n",
       "Anual_Salary                                 0.314531   \n",
       "charges                                      0.312475   \n",
       "\n",
       "                                 NUmber_of_past_hospitalizations  \\\n",
       "age                                                     0.524443   \n",
       "bmi                                                     0.023200   \n",
       "children                                                0.315561   \n",
       "Claim_Amount                                            0.108204   \n",
       "past_consultations                                      0.133985   \n",
       "num_of_steps                                            0.717061   \n",
       "Hospital_expenditure                                    0.127605   \n",
       "NUmber_of_past_hospitalizations                         1.000000   \n",
       "Anual_Salary                                            0.391157   \n",
       "charges                                                 0.548463   \n",
       "\n",
       "                                 Anual_Salary   charges  \n",
       "age                                  0.589127  0.745373  \n",
       "bmi                                  0.035083  0.040202  \n",
       "children                             0.064808  0.136680  \n",
       "Claim_Amount                         0.158898  0.189897  \n",
       "past_consultations                   0.247507  0.264563  \n",
       "num_of_steps                         0.788480  0.940102  \n",
       "Hospital_expenditure                 0.314531  0.312475  \n",
       "NUmber_of_past_hospitalizations      0.391157  0.548463  \n",
       "Anual_Salary                         1.000000  0.900344  \n",
       "charges                              0.900344  1.000000  "
      ]
     },
     "execution_count": 35,
     "metadata": {},
     "output_type": "execute_result"
    }
   ],
   "source": [
    "#Relaationship between two variables\n",
    "data.corr()"
   ]
  },
  {
   "cell_type": "code",
   "execution_count": 36,
   "id": "7f2a1d60",
   "metadata": {},
   "outputs": [],
   "source": [
    "#VIF Varainace inflation factor\n",
    "\n",
    "#VIF= 1 --> Variables are not correlated\n",
    "#VIF= (1-6)--> Variables are moderately correlated\n",
    "#VIF >6 --> Variables are highly correlated"
   ]
  },
  {
   "cell_type": "code",
   "execution_count": 37,
   "id": "59660d07",
   "metadata": {},
   "outputs": [],
   "source": [
    "from sklearn.linear_model import LinearRegression"
   ]
  },
  {
   "cell_type": "code",
   "execution_count": 38,
   "id": "910dc5d4",
   "metadata": {},
   "outputs": [],
   "source": [
    "from sklearn.model_selection import train_test_split"
   ]
  },
  {
   "cell_type": "code",
   "execution_count": 39,
   "id": "7fa44576",
   "metadata": {},
   "outputs": [],
   "source": [
    "from statsmodels.stats.outliers_influence import variance_inflation_factor\n",
    "col_list = []\n",
    "for col in data.columns:\n",
    "    if((data[col].dtype != 'object') & (col !='charges')):\n",
    "        col_list.append(col)\n",
    "    \n",
    "    "
   ]
  },
  {
   "cell_type": "code",
   "execution_count": 40,
   "id": "d492ec2e",
   "metadata": {},
   "outputs": [
    {
     "data": {
      "text/plain": [
       "['age',\n",
       " 'bmi',\n",
       " 'children',\n",
       " 'Claim_Amount',\n",
       " 'past_consultations',\n",
       " 'num_of_steps',\n",
       " 'Hospital_expenditure',\n",
       " 'NUmber_of_past_hospitalizations',\n",
       " 'Anual_Salary']"
      ]
     },
     "execution_count": 40,
     "metadata": {},
     "output_type": "execute_result"
    }
   ],
   "source": [
    "col_list"
   ]
  },
  {
   "cell_type": "code",
   "execution_count": 41,
   "id": "0e9efbec",
   "metadata": {},
   "outputs": [
    {
     "data": {
      "text/html": [
       "<div>\n",
       "<style scoped>\n",
       "    .dataframe tbody tr th:only-of-type {\n",
       "        vertical-align: middle;\n",
       "    }\n",
       "\n",
       "    .dataframe tbody tr th {\n",
       "        vertical-align: top;\n",
       "    }\n",
       "\n",
       "    .dataframe thead th {\n",
       "        text-align: right;\n",
       "    }\n",
       "</style>\n",
       "<table border=\"1\" class=\"dataframe\">\n",
       "  <thead>\n",
       "    <tr style=\"text-align: right;\">\n",
       "      <th></th>\n",
       "      <th>age</th>\n",
       "      <th>bmi</th>\n",
       "      <th>children</th>\n",
       "      <th>Claim_Amount</th>\n",
       "      <th>past_consultations</th>\n",
       "      <th>num_of_steps</th>\n",
       "      <th>Hospital_expenditure</th>\n",
       "      <th>NUmber_of_past_hospitalizations</th>\n",
       "      <th>Anual_Salary</th>\n",
       "    </tr>\n",
       "  </thead>\n",
       "  <tbody>\n",
       "    <tr>\n",
       "      <th>0</th>\n",
       "      <td>18.0</td>\n",
       "      <td>23.210</td>\n",
       "      <td>0.0</td>\n",
       "      <td>29087.54313</td>\n",
       "      <td>17.0</td>\n",
       "      <td>715428.0</td>\n",
       "      <td>4720920.992</td>\n",
       "      <td>0.0</td>\n",
       "      <td>5.578497e+07</td>\n",
       "    </tr>\n",
       "    <tr>\n",
       "      <th>1</th>\n",
       "      <td>18.0</td>\n",
       "      <td>30.140</td>\n",
       "      <td>0.0</td>\n",
       "      <td>39053.67437</td>\n",
       "      <td>7.0</td>\n",
       "      <td>699157.0</td>\n",
       "      <td>4329831.676</td>\n",
       "      <td>0.0</td>\n",
       "      <td>1.370089e+07</td>\n",
       "    </tr>\n",
       "    <tr>\n",
       "      <th>2</th>\n",
       "      <td>18.0</td>\n",
       "      <td>33.330</td>\n",
       "      <td>0.0</td>\n",
       "      <td>39023.62759</td>\n",
       "      <td>19.0</td>\n",
       "      <td>702341.0</td>\n",
       "      <td>6884860.774</td>\n",
       "      <td>0.0</td>\n",
       "      <td>7.352311e+07</td>\n",
       "    </tr>\n",
       "    <tr>\n",
       "      <th>3</th>\n",
       "      <td>18.0</td>\n",
       "      <td>33.660</td>\n",
       "      <td>0.0</td>\n",
       "      <td>28185.39332</td>\n",
       "      <td>11.0</td>\n",
       "      <td>700250.0</td>\n",
       "      <td>4274773.550</td>\n",
       "      <td>0.0</td>\n",
       "      <td>7.581968e+07</td>\n",
       "    </tr>\n",
       "    <tr>\n",
       "      <th>4</th>\n",
       "      <td>18.0</td>\n",
       "      <td>34.100</td>\n",
       "      <td>0.0</td>\n",
       "      <td>14697.85941</td>\n",
       "      <td>16.0</td>\n",
       "      <td>711584.0</td>\n",
       "      <td>3787293.921</td>\n",
       "      <td>0.0</td>\n",
       "      <td>2.301232e+07</td>\n",
       "    </tr>\n",
       "    <tr>\n",
       "      <th>...</th>\n",
       "      <td>...</td>\n",
       "      <td>...</td>\n",
       "      <td>...</td>\n",
       "      <td>...</td>\n",
       "      <td>...</td>\n",
       "      <td>...</td>\n",
       "      <td>...</td>\n",
       "      <td>...</td>\n",
       "      <td>...</td>\n",
       "    </tr>\n",
       "    <tr>\n",
       "      <th>1019</th>\n",
       "      <td>28.0</td>\n",
       "      <td>23.980</td>\n",
       "      <td>3.0</td>\n",
       "      <td>41686.19886</td>\n",
       "      <td>12.0</td>\n",
       "      <td>974518.0</td>\n",
       "      <td>8679934.418</td>\n",
       "      <td>1.0</td>\n",
       "      <td>3.225795e+08</td>\n",
       "    </tr>\n",
       "    <tr>\n",
       "      <th>1021</th>\n",
       "      <td>25.0</td>\n",
       "      <td>41.325</td>\n",
       "      <td>0.0</td>\n",
       "      <td>17100.29000</td>\n",
       "      <td>26.0</td>\n",
       "      <td>970038.0</td>\n",
       "      <td>8933071.597</td>\n",
       "      <td>1.0</td>\n",
       "      <td>3.353376e+08</td>\n",
       "    </tr>\n",
       "    <tr>\n",
       "      <th>1024</th>\n",
       "      <td>21.0</td>\n",
       "      <td>25.700</td>\n",
       "      <td>4.0</td>\n",
       "      <td>23327.30277</td>\n",
       "      <td>14.0</td>\n",
       "      <td>974525.0</td>\n",
       "      <td>8800806.831</td>\n",
       "      <td>1.0</td>\n",
       "      <td>3.333838e+08</td>\n",
       "    </tr>\n",
       "    <tr>\n",
       "      <th>1028</th>\n",
       "      <td>18.0</td>\n",
       "      <td>27.280</td>\n",
       "      <td>3.0</td>\n",
       "      <td>60712.92534</td>\n",
       "      <td>21.0</td>\n",
       "      <td>978581.0</td>\n",
       "      <td>6428427.967</td>\n",
       "      <td>1.0</td>\n",
       "      <td>3.455331e+08</td>\n",
       "    </tr>\n",
       "    <tr>\n",
       "      <th>1029</th>\n",
       "      <td>27.0</td>\n",
       "      <td>29.150</td>\n",
       "      <td>0.0</td>\n",
       "      <td>51178.09811</td>\n",
       "      <td>20.0</td>\n",
       "      <td>978435.0</td>\n",
       "      <td>8528746.645</td>\n",
       "      <td>1.0</td>\n",
       "      <td>3.504584e+08</td>\n",
       "    </tr>\n",
       "  </tbody>\n",
       "</table>\n",
       "<p>1005 rows × 9 columns</p>\n",
       "</div>"
      ],
      "text/plain": [
       "       age     bmi  children  Claim_Amount  past_consultations  num_of_steps  \\\n",
       "0     18.0  23.210       0.0   29087.54313                17.0      715428.0   \n",
       "1     18.0  30.140       0.0   39053.67437                 7.0      699157.0   \n",
       "2     18.0  33.330       0.0   39023.62759                19.0      702341.0   \n",
       "3     18.0  33.660       0.0   28185.39332                11.0      700250.0   \n",
       "4     18.0  34.100       0.0   14697.85941                16.0      711584.0   \n",
       "...    ...     ...       ...           ...                 ...           ...   \n",
       "1019  28.0  23.980       3.0   41686.19886                12.0      974518.0   \n",
       "1021  25.0  41.325       0.0   17100.29000                26.0      970038.0   \n",
       "1024  21.0  25.700       4.0   23327.30277                14.0      974525.0   \n",
       "1028  18.0  27.280       3.0   60712.92534                21.0      978581.0   \n",
       "1029  27.0  29.150       0.0   51178.09811                20.0      978435.0   \n",
       "\n",
       "      Hospital_expenditure  NUmber_of_past_hospitalizations  Anual_Salary  \n",
       "0              4720920.992                              0.0  5.578497e+07  \n",
       "1              4329831.676                              0.0  1.370089e+07  \n",
       "2              6884860.774                              0.0  7.352311e+07  \n",
       "3              4274773.550                              0.0  7.581968e+07  \n",
       "4              3787293.921                              0.0  2.301232e+07  \n",
       "...                    ...                              ...           ...  \n",
       "1019           8679934.418                              1.0  3.225795e+08  \n",
       "1021           8933071.597                              1.0  3.353376e+08  \n",
       "1024           8800806.831                              1.0  3.333838e+08  \n",
       "1028           6428427.967                              1.0  3.455331e+08  \n",
       "1029           8528746.645                              1.0  3.504584e+08  \n",
       "\n",
       "[1005 rows x 9 columns]"
      ]
     },
     "execution_count": 41,
     "metadata": {},
     "output_type": "execute_result"
    }
   ],
   "source": [
    "X=data[col_list]\n",
    "X"
   ]
  },
  {
   "cell_type": "code",
   "execution_count": 42,
   "id": "c0ec8d37",
   "metadata": {},
   "outputs": [
    {
     "data": {
      "text/plain": [
       "Index(['age', 'bmi', 'children', 'Claim_Amount', 'past_consultations',\n",
       "       'num_of_steps', 'Hospital_expenditure',\n",
       "       'NUmber_of_past_hospitalizations', 'Anual_Salary'],\n",
       "      dtype='object')"
      ]
     },
     "execution_count": 42,
     "metadata": {},
     "output_type": "execute_result"
    }
   ],
   "source": [
    "X.columns"
   ]
  },
  {
   "cell_type": "code",
   "execution_count": 43,
   "id": "d9d00d16",
   "metadata": {},
   "outputs": [
    {
     "data": {
      "text/plain": [
       "array([[1.80000000e+01, 2.32100000e+01, 0.00000000e+00, ...,\n",
       "        4.72092099e+06, 0.00000000e+00, 5.57849700e+07],\n",
       "       [1.80000000e+01, 3.01400000e+01, 0.00000000e+00, ...,\n",
       "        4.32983168e+06, 0.00000000e+00, 1.37008852e+07],\n",
       "       [1.80000000e+01, 3.33300000e+01, 0.00000000e+00, ...,\n",
       "        6.88486077e+06, 0.00000000e+00, 7.35231073e+07],\n",
       "       ...,\n",
       "       [2.10000000e+01, 2.57000000e+01, 4.00000000e+00, ...,\n",
       "        8.80080683e+06, 1.00000000e+00, 3.33383821e+08],\n",
       "       [1.80000000e+01, 2.72800000e+01, 3.00000000e+00, ...,\n",
       "        6.42842797e+06, 1.00000000e+00, 3.45533095e+08],\n",
       "       [2.70000000e+01, 2.91500000e+01, 0.00000000e+00, ...,\n",
       "        8.52874664e+06, 1.00000000e+00, 3.50458441e+08]])"
      ]
     },
     "execution_count": 43,
     "metadata": {},
     "output_type": "execute_result"
    }
   ],
   "source": [
    "X.values"
   ]
  },
  {
   "cell_type": "code",
   "execution_count": 44,
   "id": "42f0b163",
   "metadata": {},
   "outputs": [
    {
     "name": "stdout",
     "output_type": "stream",
     "text": [
      "0\n",
      "1\n",
      "2\n",
      "3\n",
      "4\n",
      "5\n",
      "6\n",
      "7\n",
      "8\n"
     ]
    }
   ],
   "source": [
    "for i in range(len(X.columns)):\n",
    "    print(i)"
   ]
  },
  {
   "cell_type": "code",
   "execution_count": 45,
   "id": "9880417d",
   "metadata": {},
   "outputs": [
    {
     "name": "stdout",
     "output_type": "stream",
     "text": [
      "                           feature        VIF\n",
      "0                              age  17.490752\n",
      "1                              bmi  26.377230\n",
      "2                         children   2.029461\n",
      "3                     Claim_Amount   5.619474\n",
      "4               past_consultations   6.148202\n",
      "5                     num_of_steps  60.540637\n",
      "6             Hospital_expenditure   5.166861\n",
      "7  NUmber_of_past_hospitalizations  11.963432\n",
      "8                     Anual_Salary   6.367054\n"
     ]
    }
   ],
   "source": [
    "from statsmodels.stats.outliers_influence import variance_inflation_factor\n",
    "col_list=[]\n",
    "for col in data.columns:\n",
    "    if((data[col].dtypes!='object') & (col!='charges')):\n",
    "        col_list.append(col)\n",
    "X= data[col_list]\n",
    "vif_data=pd.DataFrame()\n",
    "vif_data['feature']=X.columns\n",
    "vif_data['VIF']=[variance_inflation_factor(X.values,i) for i in range(len(X.columns))]\n",
    "print(vif_data)"
   ]
  },
  {
   "cell_type": "code",
   "execution_count": 46,
   "id": "5c96a5c9",
   "metadata": {},
   "outputs": [],
   "source": [
    "data=data.drop(['num_of_steps'],axis=1)"
   ]
  },
  {
   "cell_type": "code",
   "execution_count": 47,
   "id": "2e7a7c5c",
   "metadata": {},
   "outputs": [
    {
     "name": "stdout",
     "output_type": "stream",
     "text": [
      "                           feature        VIF\n",
      "0                              age  16.435818\n",
      "1                              bmi  12.445835\n",
      "2                         children   2.016735\n",
      "3                     Claim_Amount   5.191151\n",
      "4               past_consultations   5.727699\n",
      "5             Hospital_expenditure   4.909462\n",
      "6  NUmber_of_past_hospitalizations  10.672204\n",
      "7                     Anual_Salary   6.300093\n"
     ]
    }
   ],
   "source": [
    "col_list=[]\n",
    "for col in data.columns:\n",
    "    if((data[col].dtypes!='object')&(col!='charges')):\n",
    "        col_list.append(col)\n",
    "X=data[col_list]\n",
    "vif_data=pd.DataFrame()\n",
    "vif_data['feature']=X.columns\n",
    "vif_data['VIF']=[variance_inflation_factor(X.values,i) for i in range(len(X.columns))]\n",
    "print(vif_data)    "
   ]
  },
  {
   "cell_type": "code",
   "execution_count": 48,
   "id": "835da6cb",
   "metadata": {},
   "outputs": [],
   "source": [
    "data=data.drop(['age'],axis=1)"
   ]
  },
  {
   "cell_type": "code",
   "execution_count": 58,
   "id": "39cbc307",
   "metadata": {},
   "outputs": [
    {
     "name": "stdout",
     "output_type": "stream",
     "text": [
      "                feature       VIF\n",
      "0              children  1.711624\n",
      "1          Claim_Amount  4.179112\n",
      "2    past_consultations  4.628726\n",
      "3  Hospital_expenditure  4.205475\n",
      "4          Anual_Salary  4.397069\n"
     ]
    }
   ],
   "source": [
    "col_list=[]\n",
    "for col in data.columns:\n",
    "    if((data[col].dtypes!='object')&(col!='charges')):\n",
    "        col_list.append(col)\n",
    "\n",
    "X=data[col_list]\n",
    "vif_data=pd.DataFrame()\n",
    "vif_data['feature']=X.columns\n",
    "vif_data['VIF']=[variance_inflation_factor(X.values,i) for i in range(len(X.columns))]\n",
    "print(vif_data)"
   ]
  },
  {
   "cell_type": "code",
   "execution_count": 52,
   "id": "3b861d25",
   "metadata": {},
   "outputs": [],
   "source": [
    "data=data.drop(['bmi'],axis=1)"
   ]
  },
  {
   "cell_type": "code",
   "execution_count": 54,
   "id": "6e2bbb2d",
   "metadata": {},
   "outputs": [
    {
     "name": "stdout",
     "output_type": "stream",
     "text": [
      "                           feature        VIF\n",
      "0                         children   1.974849\n",
      "1                     Claim_Amount   4.515460\n",
      "2               past_consultations   4.959167\n",
      "3             Hospital_expenditure   4.394778\n",
      "4  NUmber_of_past_hospitalizations   9.331342\n",
      "5                     Anual_Salary  20.922159\n",
      "6                          charges  28.973774\n"
     ]
    }
   ],
   "source": [
    "col_list=[]\n",
    "for col in data.columns:\n",
    "    if((data[col].dtypes!='object')&(col!='charges')):\n",
    "        col_list.append(col)\n",
    "X=data[col_list]\n",
    "vif_data=pd.DataFrame()\n",
    "vif_data['feature']=X.columns\n",
    "vif_data['VIF']=[variance_inflation_factor(X.values,i) for i in range(len(X.columns))]\n",
    "print(vif_data)"
   ]
  },
  {
   "cell_type": "code",
   "execution_count": 59,
   "id": "2311146a",
   "metadata": {},
   "outputs": [
    {
     "name": "stdout",
     "output_type": "stream",
     "text": [
      "                feature       VIF\n",
      "0              children  1.711624\n",
      "1          Claim_Amount  4.179112\n",
      "2    past_consultations  4.628726\n",
      "3  Hospital_expenditure  4.205475\n",
      "4          Anual_Salary  4.397069\n"
     ]
    }
   ],
   "source": [
    "col_list=[]\n",
    "for col in data.columns:\n",
    "    if((data[col].dtypes!='object')&(col!='charges')):\n",
    "        col_list.append(col)\n",
    "X=data[col_list]\n",
    "vif_data=pd.DataFrame()\n",
    "vif_data['feature']=X.columns\n",
    "vif_data['VIF']=[variance_inflation_factor(X.values,i) for i in range(len(X.columns))]\n",
    "print(vif_data)"
   ]
  },
  {
   "cell_type": "code",
   "execution_count": 61,
   "id": "8bfd849d",
   "metadata": {},
   "outputs": [],
   "source": [
    "x=data.loc[:,['children','Claim_Amount','past_consultations','Hospital_expenditure','Anual_Salary']]\n",
    "y=data.iloc[:,-1]"
   ]
  },
  {
   "cell_type": "code",
   "execution_count": 62,
   "id": "2408320f",
   "metadata": {},
   "outputs": [
    {
     "data": {
      "text/html": [
       "<div>\n",
       "<style scoped>\n",
       "    .dataframe tbody tr th:only-of-type {\n",
       "        vertical-align: middle;\n",
       "    }\n",
       "\n",
       "    .dataframe tbody tr th {\n",
       "        vertical-align: top;\n",
       "    }\n",
       "\n",
       "    .dataframe thead th {\n",
       "        text-align: right;\n",
       "    }\n",
       "</style>\n",
       "<table border=\"1\" class=\"dataframe\">\n",
       "  <thead>\n",
       "    <tr style=\"text-align: right;\">\n",
       "      <th></th>\n",
       "      <th>children</th>\n",
       "      <th>Claim_Amount</th>\n",
       "      <th>past_consultations</th>\n",
       "      <th>Hospital_expenditure</th>\n",
       "      <th>Anual_Salary</th>\n",
       "    </tr>\n",
       "  </thead>\n",
       "  <tbody>\n",
       "    <tr>\n",
       "      <th>0</th>\n",
       "      <td>0.0</td>\n",
       "      <td>29087.54313</td>\n",
       "      <td>17.0</td>\n",
       "      <td>4720920.992</td>\n",
       "      <td>5.578497e+07</td>\n",
       "    </tr>\n",
       "    <tr>\n",
       "      <th>1</th>\n",
       "      <td>0.0</td>\n",
       "      <td>39053.67437</td>\n",
       "      <td>7.0</td>\n",
       "      <td>4329831.676</td>\n",
       "      <td>1.370089e+07</td>\n",
       "    </tr>\n",
       "    <tr>\n",
       "      <th>2</th>\n",
       "      <td>0.0</td>\n",
       "      <td>39023.62759</td>\n",
       "      <td>19.0</td>\n",
       "      <td>6884860.774</td>\n",
       "      <td>7.352311e+07</td>\n",
       "    </tr>\n",
       "    <tr>\n",
       "      <th>3</th>\n",
       "      <td>0.0</td>\n",
       "      <td>28185.39332</td>\n",
       "      <td>11.0</td>\n",
       "      <td>4274773.550</td>\n",
       "      <td>7.581968e+07</td>\n",
       "    </tr>\n",
       "    <tr>\n",
       "      <th>4</th>\n",
       "      <td>0.0</td>\n",
       "      <td>14697.85941</td>\n",
       "      <td>16.0</td>\n",
       "      <td>3787293.921</td>\n",
       "      <td>2.301232e+07</td>\n",
       "    </tr>\n",
       "    <tr>\n",
       "      <th>...</th>\n",
       "      <td>...</td>\n",
       "      <td>...</td>\n",
       "      <td>...</td>\n",
       "      <td>...</td>\n",
       "      <td>...</td>\n",
       "    </tr>\n",
       "    <tr>\n",
       "      <th>1019</th>\n",
       "      <td>3.0</td>\n",
       "      <td>41686.19886</td>\n",
       "      <td>12.0</td>\n",
       "      <td>8679934.418</td>\n",
       "      <td>3.225795e+08</td>\n",
       "    </tr>\n",
       "    <tr>\n",
       "      <th>1021</th>\n",
       "      <td>0.0</td>\n",
       "      <td>17100.29000</td>\n",
       "      <td>26.0</td>\n",
       "      <td>8933071.597</td>\n",
       "      <td>3.353376e+08</td>\n",
       "    </tr>\n",
       "    <tr>\n",
       "      <th>1024</th>\n",
       "      <td>4.0</td>\n",
       "      <td>23327.30277</td>\n",
       "      <td>14.0</td>\n",
       "      <td>8800806.831</td>\n",
       "      <td>3.333838e+08</td>\n",
       "    </tr>\n",
       "    <tr>\n",
       "      <th>1028</th>\n",
       "      <td>3.0</td>\n",
       "      <td>60712.92534</td>\n",
       "      <td>21.0</td>\n",
       "      <td>6428427.967</td>\n",
       "      <td>3.455331e+08</td>\n",
       "    </tr>\n",
       "    <tr>\n",
       "      <th>1029</th>\n",
       "      <td>0.0</td>\n",
       "      <td>51178.09811</td>\n",
       "      <td>20.0</td>\n",
       "      <td>8528746.645</td>\n",
       "      <td>3.504584e+08</td>\n",
       "    </tr>\n",
       "  </tbody>\n",
       "</table>\n",
       "<p>1005 rows × 5 columns</p>\n",
       "</div>"
      ],
      "text/plain": [
       "      children  Claim_Amount  past_consultations  Hospital_expenditure  \\\n",
       "0          0.0   29087.54313                17.0           4720920.992   \n",
       "1          0.0   39053.67437                 7.0           4329831.676   \n",
       "2          0.0   39023.62759                19.0           6884860.774   \n",
       "3          0.0   28185.39332                11.0           4274773.550   \n",
       "4          0.0   14697.85941                16.0           3787293.921   \n",
       "...        ...           ...                 ...                   ...   \n",
       "1019       3.0   41686.19886                12.0           8679934.418   \n",
       "1021       0.0   17100.29000                26.0           8933071.597   \n",
       "1024       4.0   23327.30277                14.0           8800806.831   \n",
       "1028       3.0   60712.92534                21.0           6428427.967   \n",
       "1029       0.0   51178.09811                20.0           8528746.645   \n",
       "\n",
       "      Anual_Salary  \n",
       "0     5.578497e+07  \n",
       "1     1.370089e+07  \n",
       "2     7.352311e+07  \n",
       "3     7.581968e+07  \n",
       "4     2.301232e+07  \n",
       "...            ...  \n",
       "1019  3.225795e+08  \n",
       "1021  3.353376e+08  \n",
       "1024  3.333838e+08  \n",
       "1028  3.455331e+08  \n",
       "1029  3.504584e+08  \n",
       "\n",
       "[1005 rows x 5 columns]"
      ]
     },
     "execution_count": 62,
     "metadata": {},
     "output_type": "execute_result"
    }
   ],
   "source": [
    "x"
   ]
  },
  {
   "cell_type": "code",
   "execution_count": 63,
   "id": "c28cc378",
   "metadata": {},
   "outputs": [
    {
     "data": {
      "text/plain": [
       "0        1121.87390\n",
       "1        1131.50660\n",
       "2        1135.94070\n",
       "3        1136.39940\n",
       "4        1137.01100\n",
       "           ...     \n",
       "1019    17663.14420\n",
       "1021    17878.90068\n",
       "1024    17942.10600\n",
       "1028    18223.45120\n",
       "1029    18246.49550\n",
       "Name: charges, Length: 1005, dtype: float64"
      ]
     },
     "execution_count": 63,
     "metadata": {},
     "output_type": "execute_result"
    }
   ],
   "source": [
    "y"
   ]
  },
  {
   "cell_type": "code",
   "execution_count": 64,
   "id": "53839ef9",
   "metadata": {},
   "outputs": [],
   "source": [
    "#splitting the data into train and test"
   ]
  },
  {
   "cell_type": "code",
   "execution_count": 65,
   "id": "fd8001f6",
   "metadata": {},
   "outputs": [],
   "source": [
    "x_train,x_test,y_train,y_test=train_test_split(x,y,train_size=0.8,random_state=0)"
   ]
  },
  {
   "cell_type": "code",
   "execution_count": 66,
   "id": "5035448f",
   "metadata": {},
   "outputs": [
    {
     "name": "stdout",
     "output_type": "stream",
     "text": [
      "(804, 5)\n",
      "(201, 5)\n",
      "(804,)\n",
      "(201,)\n"
     ]
    }
   ],
   "source": [
    "print(x_train.shape)\n",
    "print(x_test.shape)\n",
    "print(y_train.shape)\n",
    "print(y_test.shape)"
   ]
  },
  {
   "cell_type": "code",
   "execution_count": 67,
   "id": "d85f5582",
   "metadata": {},
   "outputs": [
    {
     "data": {
      "text/plain": [
       "(     children  Claim_Amount  past_consultations  Hospital_expenditure  \\\n",
       " 471       0.0   12929.42998                13.0          4.475731e+05   \n",
       " 405       5.0   50103.89082                20.0          8.206516e+06   \n",
       " 882       0.0   35152.81142                15.0          1.030845e+07   \n",
       " 831       0.0   35538.92559                24.0          7.056455e+06   \n",
       " 877       0.0   14719.96399                22.0          9.545248e+06   \n",
       " ..        ...           ...                 ...                   ...   \n",
       " 846       0.0   27388.67704                18.0          7.295768e+06   \n",
       " 197       2.0   48666.90312                16.0          7.369025e+05   \n",
       " 637       0.0   26000.57415                11.0          1.142255e+06   \n",
       " 565       0.0   20166.24703                10.0          9.807422e+06   \n",
       " 693       1.0   13531.98656                23.0          5.166597e+06   \n",
       " \n",
       "      Anual_Salary  \n",
       " 471  5.840026e+07  \n",
       " 405  8.685767e+07  \n",
       " 882  1.913545e+08  \n",
       " 831  1.840065e+08  \n",
       " 877  2.432703e+08  \n",
       " ..            ...  \n",
       " 846  1.789610e+08  \n",
       " 197  7.000701e+07  \n",
       " 637  9.214643e+07  \n",
       " 565  1.543039e+08  \n",
       " 693  1.791053e+08  \n",
       " \n",
       " [804 rows x 5 columns],\n",
       "      children  Claim_Amount  past_consultations  Hospital_expenditure  \\\n",
       " 720       2.0  22647.321890                 5.0          5.280565e+06   \n",
       " 675       1.0  36308.379780                12.0          3.032524e+06   \n",
       " 304       2.0  38072.482860                14.0          8.776791e+06   \n",
       " 362       0.0  47687.443630                22.0          9.782759e+05   \n",
       " 579       0.0  33361.327180                20.0          6.714474e+06   \n",
       " ..        ...           ...                 ...                   ...   \n",
       " 735       0.0   7892.762093                19.0          1.007188e+07   \n",
       " 220       1.0  19676.818360                12.0          9.970401e+06   \n",
       " 664       1.0  48567.767220                 9.0          2.209491e+06   \n",
       " 155       1.0  31090.989770                21.0          3.015365e+06   \n",
       " 348       0.0  36099.041460                 2.0          6.156371e+06   \n",
       " \n",
       "      Anual_Salary  \n",
       " 720  1.735518e+08  \n",
       " 675  1.438096e+08  \n",
       " 304  7.020138e+07  \n",
       " 362  8.106529e+07  \n",
       " 579  8.373645e+07  \n",
       " ..            ...  \n",
       " 735  1.769992e+08  \n",
       " 220  4.389711e+07  \n",
       " 664  1.166382e+08  \n",
       " 155  5.853579e+07  \n",
       " 348  7.434880e+07  \n",
       " \n",
       " [201 rows x 5 columns],\n",
       " 471     6571.02435\n",
       " 405     5615.36900\n",
       " 882    12629.89670\n",
       " 831    11840.77505\n",
       " 877    12574.04900\n",
       "           ...     \n",
       " 846    12029.28670\n",
       " 197     3077.09550\n",
       " 637     8835.26495\n",
       " 565     7804.16050\n",
       " 693     9724.53000\n",
       " Name: charges, Length: 804, dtype: float64,\n",
       " 720    10118.42400\n",
       " 675     9447.38240\n",
       " 304     4435.09420\n",
       " 362     5028.14660\n",
       " 579     8116.68000\n",
       "           ...     \n",
       " 735    10422.91665\n",
       " 220     3378.91000\n",
       " 664     9290.13950\n",
       " 155     2585.26900\n",
       " 348     4883.86600\n",
       " Name: charges, Length: 201, dtype: float64)"
      ]
     },
     "execution_count": 67,
     "metadata": {},
     "output_type": "execute_result"
    }
   ],
   "source": [
    "x_train, x_test, y_train, y_test"
   ]
  },
  {
   "cell_type": "code",
   "execution_count": 69,
   "id": "7967f776",
   "metadata": {},
   "outputs": [],
   "source": [
    "l_model=LinearRegression()"
   ]
  },
  {
   "cell_type": "code",
   "execution_count": 71,
   "id": "cff092dc",
   "metadata": {},
   "outputs": [
    {
     "data": {
      "text/html": [
       "<style>#sk-container-id-1 {color: black;background-color: white;}#sk-container-id-1 pre{padding: 0;}#sk-container-id-1 div.sk-toggleable {background-color: white;}#sk-container-id-1 label.sk-toggleable__label {cursor: pointer;display: block;width: 100%;margin-bottom: 0;padding: 0.3em;box-sizing: border-box;text-align: center;}#sk-container-id-1 label.sk-toggleable__label-arrow:before {content: \"▸\";float: left;margin-right: 0.25em;color: #696969;}#sk-container-id-1 label.sk-toggleable__label-arrow:hover:before {color: black;}#sk-container-id-1 div.sk-estimator:hover label.sk-toggleable__label-arrow:before {color: black;}#sk-container-id-1 div.sk-toggleable__content {max-height: 0;max-width: 0;overflow: hidden;text-align: left;background-color: #f0f8ff;}#sk-container-id-1 div.sk-toggleable__content pre {margin: 0.2em;color: black;border-radius: 0.25em;background-color: #f0f8ff;}#sk-container-id-1 input.sk-toggleable__control:checked~div.sk-toggleable__content {max-height: 200px;max-width: 100%;overflow: auto;}#sk-container-id-1 input.sk-toggleable__control:checked~label.sk-toggleable__label-arrow:before {content: \"▾\";}#sk-container-id-1 div.sk-estimator input.sk-toggleable__control:checked~label.sk-toggleable__label {background-color: #d4ebff;}#sk-container-id-1 div.sk-label input.sk-toggleable__control:checked~label.sk-toggleable__label {background-color: #d4ebff;}#sk-container-id-1 input.sk-hidden--visually {border: 0;clip: rect(1px 1px 1px 1px);clip: rect(1px, 1px, 1px, 1px);height: 1px;margin: -1px;overflow: hidden;padding: 0;position: absolute;width: 1px;}#sk-container-id-1 div.sk-estimator {font-family: monospace;background-color: #f0f8ff;border: 1px dotted black;border-radius: 0.25em;box-sizing: border-box;margin-bottom: 0.5em;}#sk-container-id-1 div.sk-estimator:hover {background-color: #d4ebff;}#sk-container-id-1 div.sk-parallel-item::after {content: \"\";width: 100%;border-bottom: 1px solid gray;flex-grow: 1;}#sk-container-id-1 div.sk-label:hover label.sk-toggleable__label {background-color: #d4ebff;}#sk-container-id-1 div.sk-serial::before {content: \"\";position: absolute;border-left: 1px solid gray;box-sizing: border-box;top: 0;bottom: 0;left: 50%;z-index: 0;}#sk-container-id-1 div.sk-serial {display: flex;flex-direction: column;align-items: center;background-color: white;padding-right: 0.2em;padding-left: 0.2em;position: relative;}#sk-container-id-1 div.sk-item {position: relative;z-index: 1;}#sk-container-id-1 div.sk-parallel {display: flex;align-items: stretch;justify-content: center;background-color: white;position: relative;}#sk-container-id-1 div.sk-item::before, #sk-container-id-1 div.sk-parallel-item::before {content: \"\";position: absolute;border-left: 1px solid gray;box-sizing: border-box;top: 0;bottom: 0;left: 50%;z-index: -1;}#sk-container-id-1 div.sk-parallel-item {display: flex;flex-direction: column;z-index: 1;position: relative;background-color: white;}#sk-container-id-1 div.sk-parallel-item:first-child::after {align-self: flex-end;width: 50%;}#sk-container-id-1 div.sk-parallel-item:last-child::after {align-self: flex-start;width: 50%;}#sk-container-id-1 div.sk-parallel-item:only-child::after {width: 0;}#sk-container-id-1 div.sk-dashed-wrapped {border: 1px dashed gray;margin: 0 0.4em 0.5em 0.4em;box-sizing: border-box;padding-bottom: 0.4em;background-color: white;}#sk-container-id-1 div.sk-label label {font-family: monospace;font-weight: bold;display: inline-block;line-height: 1.2em;}#sk-container-id-1 div.sk-label-container {text-align: center;}#sk-container-id-1 div.sk-container {/* jupyter's `normalize.less` sets `[hidden] { display: none; }` but bootstrap.min.css set `[hidden] { display: none !important; }` so we also need the `!important` here to be able to override the default hidden behavior on the sphinx rendered scikit-learn.org. See: https://github.com/scikit-learn/scikit-learn/issues/21755 */display: inline-block !important;position: relative;}#sk-container-id-1 div.sk-text-repr-fallback {display: none;}</style><div id=\"sk-container-id-1\" class=\"sk-top-container\"><div class=\"sk-text-repr-fallback\"><pre>LinearRegression()</pre><b>In a Jupyter environment, please rerun this cell to show the HTML representation or trust the notebook. <br />On GitHub, the HTML representation is unable to render, please try loading this page with nbviewer.org.</b></div><div class=\"sk-container\" hidden><div class=\"sk-item\"><div class=\"sk-estimator sk-toggleable\"><input class=\"sk-toggleable__control sk-hidden--visually\" id=\"sk-estimator-id-1\" type=\"checkbox\" checked><label for=\"sk-estimator-id-1\" class=\"sk-toggleable__label sk-toggleable__label-arrow\">LinearRegression</label><div class=\"sk-toggleable__content\"><pre>LinearRegression()</pre></div></div></div></div></div>"
      ],
      "text/plain": [
       "LinearRegression()"
      ]
     },
     "execution_count": 71,
     "metadata": {},
     "output_type": "execute_result"
    }
   ],
   "source": [
    "l_model.fit(x_train,y_train)"
   ]
  },
  {
   "cell_type": "code",
   "execution_count": 73,
   "id": "08c79ce4",
   "metadata": {},
   "outputs": [],
   "source": [
    "predictions=l_model.predict(x_test)"
   ]
  },
  {
   "cell_type": "code",
   "execution_count": 74,
   "id": "07188453",
   "metadata": {},
   "outputs": [
    {
     "data": {
      "text/plain": [
       "array([ 9908.36888572,  8399.55103999,  5497.1336514 ,  5343.49714959,\n",
       "        5488.92436731, 18078.10658837,   931.77458275,  4301.46906127,\n",
       "        3396.01137895, 12427.38412139,  7770.19623872, 11096.1681195 ,\n",
       "       16349.32429045,  5473.12275109,  9380.98756129,  5665.68171354,\n",
       "        7044.62663765,  1933.63953382,  2443.77259674,  3049.98331123,\n",
       "        3819.11639695,  6045.2130636 ,  6258.83185042,  5163.6456317 ,\n",
       "       13035.10162968, 10491.92259725,  4518.28659124,  2516.42824433,\n",
       "        8100.45109746,  1717.69911159,  9316.55317318, 10678.16192621,\n",
       "        7611.84618948,  5474.98638969,  8207.18315624, 10192.88959464,\n",
       "        9711.04401665,  3978.01324845, 12746.23182238,  4852.79927116,\n",
       "        2315.52820215, 17742.7538184 ,  6303.94713525,  7534.44716104,\n",
       "        6468.78915724, 13253.22503703, 11072.80833961,  2325.20662106,\n",
       "        6877.76426599,  7407.71216436,  2801.98986426,  3897.97600285,\n",
       "        4910.50078759,  7016.40632237, 11194.73235588,  3965.08144483,\n",
       "        4349.77387881,  4842.00257841,  4918.48539546,  6751.0042826 ,\n",
       "        9866.24892059, 16917.72701023,  2263.84991524,  4069.07895065,\n",
       "       14794.46400818,  2127.72087523,  3867.39743219,  4560.03228021,\n",
       "        5909.29554565,  8757.87935684,  2814.8206032 ,  4589.49830792,\n",
       "        7101.70913306,  3531.90970709,  3725.50247627, 10056.28706784,\n",
       "       10680.68414183,  7858.66990333,  9547.45105871,  8630.16175945,\n",
       "        6799.96211542,  5032.03354397,  9621.46448438, 10636.9111762 ,\n",
       "       16475.50976727,  9258.49973822,  4546.61621694,  5814.22330639,\n",
       "        7171.18106881, 12207.34389319,  8749.76051927,  4164.85638744,\n",
       "       17231.77536814,  5385.61738549,  7522.35200646,  8617.68105541,\n",
       "        5784.23250752,  3386.03610971,  4613.71095664,  9091.009309  ,\n",
       "        8450.47273781,  5536.08185364,  3844.69179456, 18112.15279759,\n",
       "        5430.86222105,  7677.33640743,  7398.85845876, 10641.11019875,\n",
       "       10019.8930446 ,  4217.65709776,  1792.03441571,  8534.19629874,\n",
       "        8451.76705432,  6365.42126677,  6015.84386331,  4858.41056117,\n",
       "        7520.04757978,  3865.72272888, 12334.55212703, 11002.44086105,\n",
       "       11451.23619417, 14154.15330643,  3263.81107905, 12040.18097378,\n",
       "        1960.03388181, 15199.72275248,  6706.38304532,  5182.89969173,\n",
       "       16027.16314633, 15225.42488771, 10237.06076313, 13406.29575454,\n",
       "        4704.73817261, 12508.38965381,  8218.49257381,  7359.28623684,\n",
       "        7066.04062939,  4051.66312193,  7197.11815733, 11009.96202484,\n",
       "        2954.83889385,  4753.47143923, 10041.44623907,  7106.72846794,\n",
       "        2783.30590952,  8328.47221937,  3424.90649259,  6225.911482  ,\n",
       "        2890.32336447,  5705.89554065,  6157.45123804,  2423.63474518,\n",
       "        2950.28910059,  9472.69399141,  8370.63685628, 10637.84491612,\n",
       "        7133.4471968 ,  3524.64354323, 10037.27804672,  9869.84222993,\n",
       "        7435.48154946, 10655.4029226 ,  9268.04829187, 13329.1592148 ,\n",
       "        4481.35225036, 10940.97398149,  4787.40252521,  8702.51732312,\n",
       "        4394.95893415,  4756.06491751, 12254.20794252, 12072.56461551,\n",
       "        2475.2434907 ,  8858.75247979,  2604.59460181, 11469.30437659,\n",
       "        4881.5066659 , 10474.24776978, 17635.9721005 ,  2712.9962624 ,\n",
       "       10646.05712627,  8145.47347077,  9177.58404864,  5085.02146421,\n",
       "       16663.6786157 ,  7295.93832739,  9958.54112247,  8321.13961012,\n",
       "       10676.87265642,  2360.09602357, 12461.47548743, 13243.7856425 ,\n",
       "       17279.87042276,  4322.40272993, 13063.96353067,  7843.40558882,\n",
       "        9796.64533094,  3638.69054731,  7132.74780071,  4419.56511015,\n",
       "        4576.77917111])"
      ]
     },
     "execution_count": 74,
     "metadata": {},
     "output_type": "execute_result"
    }
   ],
   "source": [
    "predictions"
   ]
  },
  {
   "cell_type": "code",
   "execution_count": 85,
   "id": "d55069cd",
   "metadata": {},
   "outputs": [
    {
     "data": {
      "text/html": [
       "<div>\n",
       "<style scoped>\n",
       "    .dataframe tbody tr th:only-of-type {\n",
       "        vertical-align: middle;\n",
       "    }\n",
       "\n",
       "    .dataframe tbody tr th {\n",
       "        vertical-align: top;\n",
       "    }\n",
       "\n",
       "    .dataframe thead th {\n",
       "        text-align: right;\n",
       "    }\n",
       "</style>\n",
       "<table border=\"1\" class=\"dataframe\">\n",
       "  <thead>\n",
       "    <tr style=\"text-align: right;\">\n",
       "      <th></th>\n",
       "      <th>Actual_data</th>\n",
       "      <th>predicted_data</th>\n",
       "    </tr>\n",
       "  </thead>\n",
       "  <tbody>\n",
       "  </tbody>\n",
       "</table>\n",
       "</div>"
      ],
      "text/plain": [
       "Empty DataFrame\n",
       "Columns: [Actual_data, predicted_data]\n",
       "Index: []"
      ]
     },
     "execution_count": 85,
     "metadata": {},
     "output_type": "execute_result"
    }
   ],
   "source": [
    "error_pred=pd.DataFrame(columns=('Actual_data','predicted_data'))\n",
    "error_pred"
   ]
  },
  {
   "cell_type": "code",
   "execution_count": 86,
   "id": "991cafde",
   "metadata": {},
   "outputs": [],
   "source": [
    "error_pred['Actual_data']=y_test"
   ]
  },
  {
   "cell_type": "code",
   "execution_count": 87,
   "id": "6365bf63",
   "metadata": {},
   "outputs": [
    {
     "data": {
      "text/html": [
       "<div>\n",
       "<style scoped>\n",
       "    .dataframe tbody tr th:only-of-type {\n",
       "        vertical-align: middle;\n",
       "    }\n",
       "\n",
       "    .dataframe tbody tr th {\n",
       "        vertical-align: top;\n",
       "    }\n",
       "\n",
       "    .dataframe thead th {\n",
       "        text-align: right;\n",
       "    }\n",
       "</style>\n",
       "<table border=\"1\" class=\"dataframe\">\n",
       "  <thead>\n",
       "    <tr style=\"text-align: right;\">\n",
       "      <th></th>\n",
       "      <th>Actual_data</th>\n",
       "      <th>predicted_data</th>\n",
       "    </tr>\n",
       "  </thead>\n",
       "  <tbody>\n",
       "    <tr>\n",
       "      <th>720</th>\n",
       "      <td>10118.42400</td>\n",
       "      <td>NaN</td>\n",
       "    </tr>\n",
       "    <tr>\n",
       "      <th>675</th>\n",
       "      <td>9447.38240</td>\n",
       "      <td>NaN</td>\n",
       "    </tr>\n",
       "    <tr>\n",
       "      <th>304</th>\n",
       "      <td>4435.09420</td>\n",
       "      <td>NaN</td>\n",
       "    </tr>\n",
       "    <tr>\n",
       "      <th>362</th>\n",
       "      <td>5028.14660</td>\n",
       "      <td>NaN</td>\n",
       "    </tr>\n",
       "    <tr>\n",
       "      <th>579</th>\n",
       "      <td>8116.68000</td>\n",
       "      <td>NaN</td>\n",
       "    </tr>\n",
       "    <tr>\n",
       "      <th>...</th>\n",
       "      <td>...</td>\n",
       "      <td>...</td>\n",
       "    </tr>\n",
       "    <tr>\n",
       "      <th>735</th>\n",
       "      <td>10422.91665</td>\n",
       "      <td>NaN</td>\n",
       "    </tr>\n",
       "    <tr>\n",
       "      <th>220</th>\n",
       "      <td>3378.91000</td>\n",
       "      <td>NaN</td>\n",
       "    </tr>\n",
       "    <tr>\n",
       "      <th>664</th>\n",
       "      <td>9290.13950</td>\n",
       "      <td>NaN</td>\n",
       "    </tr>\n",
       "    <tr>\n",
       "      <th>155</th>\n",
       "      <td>2585.26900</td>\n",
       "      <td>NaN</td>\n",
       "    </tr>\n",
       "    <tr>\n",
       "      <th>348</th>\n",
       "      <td>4883.86600</td>\n",
       "      <td>NaN</td>\n",
       "    </tr>\n",
       "  </tbody>\n",
       "</table>\n",
       "<p>201 rows × 2 columns</p>\n",
       "</div>"
      ],
      "text/plain": [
       "     Actual_data predicted_data\n",
       "720  10118.42400            NaN\n",
       "675   9447.38240            NaN\n",
       "304   4435.09420            NaN\n",
       "362   5028.14660            NaN\n",
       "579   8116.68000            NaN\n",
       "..           ...            ...\n",
       "735  10422.91665            NaN\n",
       "220   3378.91000            NaN\n",
       "664   9290.13950            NaN\n",
       "155   2585.26900            NaN\n",
       "348   4883.86600            NaN\n",
       "\n",
       "[201 rows x 2 columns]"
      ]
     },
     "execution_count": 87,
     "metadata": {},
     "output_type": "execute_result"
    }
   ],
   "source": [
    "error_pred"
   ]
  },
  {
   "cell_type": "code",
   "execution_count": 88,
   "id": "1dd20269",
   "metadata": {},
   "outputs": [],
   "source": [
    "error_pred['predicted_data']=predictions"
   ]
  },
  {
   "cell_type": "code",
   "execution_count": 89,
   "id": "ff526e45",
   "metadata": {},
   "outputs": [
    {
     "data": {
      "text/html": [
       "<div>\n",
       "<style scoped>\n",
       "    .dataframe tbody tr th:only-of-type {\n",
       "        vertical-align: middle;\n",
       "    }\n",
       "\n",
       "    .dataframe tbody tr th {\n",
       "        vertical-align: top;\n",
       "    }\n",
       "\n",
       "    .dataframe thead th {\n",
       "        text-align: right;\n",
       "    }\n",
       "</style>\n",
       "<table border=\"1\" class=\"dataframe\">\n",
       "  <thead>\n",
       "    <tr style=\"text-align: right;\">\n",
       "      <th></th>\n",
       "      <th>Actual_data</th>\n",
       "      <th>predicted_data</th>\n",
       "    </tr>\n",
       "  </thead>\n",
       "  <tbody>\n",
       "    <tr>\n",
       "      <th>720</th>\n",
       "      <td>10118.42400</td>\n",
       "      <td>9908.368886</td>\n",
       "    </tr>\n",
       "    <tr>\n",
       "      <th>675</th>\n",
       "      <td>9447.38240</td>\n",
       "      <td>8399.551040</td>\n",
       "    </tr>\n",
       "    <tr>\n",
       "      <th>304</th>\n",
       "      <td>4435.09420</td>\n",
       "      <td>5497.133651</td>\n",
       "    </tr>\n",
       "    <tr>\n",
       "      <th>362</th>\n",
       "      <td>5028.14660</td>\n",
       "      <td>5343.497150</td>\n",
       "    </tr>\n",
       "    <tr>\n",
       "      <th>579</th>\n",
       "      <td>8116.68000</td>\n",
       "      <td>5488.924367</td>\n",
       "    </tr>\n",
       "    <tr>\n",
       "      <th>...</th>\n",
       "      <td>...</td>\n",
       "      <td>...</td>\n",
       "    </tr>\n",
       "    <tr>\n",
       "      <th>735</th>\n",
       "      <td>10422.91665</td>\n",
       "      <td>9796.645331</td>\n",
       "    </tr>\n",
       "    <tr>\n",
       "      <th>220</th>\n",
       "      <td>3378.91000</td>\n",
       "      <td>3638.690547</td>\n",
       "    </tr>\n",
       "    <tr>\n",
       "      <th>664</th>\n",
       "      <td>9290.13950</td>\n",
       "      <td>7132.747801</td>\n",
       "    </tr>\n",
       "    <tr>\n",
       "      <th>155</th>\n",
       "      <td>2585.26900</td>\n",
       "      <td>4419.565110</td>\n",
       "    </tr>\n",
       "    <tr>\n",
       "      <th>348</th>\n",
       "      <td>4883.86600</td>\n",
       "      <td>4576.779171</td>\n",
       "    </tr>\n",
       "  </tbody>\n",
       "</table>\n",
       "<p>201 rows × 2 columns</p>\n",
       "</div>"
      ],
      "text/plain": [
       "     Actual_data  predicted_data\n",
       "720  10118.42400     9908.368886\n",
       "675   9447.38240     8399.551040\n",
       "304   4435.09420     5497.133651\n",
       "362   5028.14660     5343.497150\n",
       "579   8116.68000     5488.924367\n",
       "..           ...             ...\n",
       "735  10422.91665     9796.645331\n",
       "220   3378.91000     3638.690547\n",
       "664   9290.13950     7132.747801\n",
       "155   2585.26900     4419.565110\n",
       "348   4883.86600     4576.779171\n",
       "\n",
       "[201 rows x 2 columns]"
      ]
     },
     "execution_count": 89,
     "metadata": {},
     "output_type": "execute_result"
    }
   ],
   "source": [
    "error_pred"
   ]
  },
  {
   "cell_type": "code",
   "execution_count": 90,
   "id": "3a6807e7",
   "metadata": {},
   "outputs": [
    {
     "data": {
      "text/plain": [
       "(201, 2)"
      ]
     },
     "execution_count": 90,
     "metadata": {},
     "output_type": "execute_result"
    }
   ],
   "source": [
    "error_pred.shape"
   ]
  },
  {
   "cell_type": "code",
   "execution_count": 93,
   "id": "cf9cb5e9",
   "metadata": {},
   "outputs": [],
   "source": [
    "error_pred['Error']=error_pred['Actual_data']-error_pred['predicted_data']"
   ]
  },
  {
   "cell_type": "code",
   "execution_count": 94,
   "id": "465f5a28",
   "metadata": {},
   "outputs": [
    {
     "data": {
      "text/html": [
       "<div>\n",
       "<style scoped>\n",
       "    .dataframe tbody tr th:only-of-type {\n",
       "        vertical-align: middle;\n",
       "    }\n",
       "\n",
       "    .dataframe tbody tr th {\n",
       "        vertical-align: top;\n",
       "    }\n",
       "\n",
       "    .dataframe thead th {\n",
       "        text-align: right;\n",
       "    }\n",
       "</style>\n",
       "<table border=\"1\" class=\"dataframe\">\n",
       "  <thead>\n",
       "    <tr style=\"text-align: right;\">\n",
       "      <th></th>\n",
       "      <th>Actual_data</th>\n",
       "      <th>predicted_data</th>\n",
       "      <th>Error</th>\n",
       "    </tr>\n",
       "  </thead>\n",
       "  <tbody>\n",
       "    <tr>\n",
       "      <th>720</th>\n",
       "      <td>10118.42400</td>\n",
       "      <td>9908.368886</td>\n",
       "      <td>210.055114</td>\n",
       "    </tr>\n",
       "    <tr>\n",
       "      <th>675</th>\n",
       "      <td>9447.38240</td>\n",
       "      <td>8399.551040</td>\n",
       "      <td>1047.831360</td>\n",
       "    </tr>\n",
       "    <tr>\n",
       "      <th>304</th>\n",
       "      <td>4435.09420</td>\n",
       "      <td>5497.133651</td>\n",
       "      <td>-1062.039451</td>\n",
       "    </tr>\n",
       "    <tr>\n",
       "      <th>362</th>\n",
       "      <td>5028.14660</td>\n",
       "      <td>5343.497150</td>\n",
       "      <td>-315.350550</td>\n",
       "    </tr>\n",
       "    <tr>\n",
       "      <th>579</th>\n",
       "      <td>8116.68000</td>\n",
       "      <td>5488.924367</td>\n",
       "      <td>2627.755633</td>\n",
       "    </tr>\n",
       "    <tr>\n",
       "      <th>...</th>\n",
       "      <td>...</td>\n",
       "      <td>...</td>\n",
       "      <td>...</td>\n",
       "    </tr>\n",
       "    <tr>\n",
       "      <th>735</th>\n",
       "      <td>10422.91665</td>\n",
       "      <td>9796.645331</td>\n",
       "      <td>626.271319</td>\n",
       "    </tr>\n",
       "    <tr>\n",
       "      <th>220</th>\n",
       "      <td>3378.91000</td>\n",
       "      <td>3638.690547</td>\n",
       "      <td>-259.780547</td>\n",
       "    </tr>\n",
       "    <tr>\n",
       "      <th>664</th>\n",
       "      <td>9290.13950</td>\n",
       "      <td>7132.747801</td>\n",
       "      <td>2157.391699</td>\n",
       "    </tr>\n",
       "    <tr>\n",
       "      <th>155</th>\n",
       "      <td>2585.26900</td>\n",
       "      <td>4419.565110</td>\n",
       "      <td>-1834.296110</td>\n",
       "    </tr>\n",
       "    <tr>\n",
       "      <th>348</th>\n",
       "      <td>4883.86600</td>\n",
       "      <td>4576.779171</td>\n",
       "      <td>307.086829</td>\n",
       "    </tr>\n",
       "  </tbody>\n",
       "</table>\n",
       "<p>201 rows × 3 columns</p>\n",
       "</div>"
      ],
      "text/plain": [
       "     Actual_data  predicted_data        Error\n",
       "720  10118.42400     9908.368886   210.055114\n",
       "675   9447.38240     8399.551040  1047.831360\n",
       "304   4435.09420     5497.133651 -1062.039451\n",
       "362   5028.14660     5343.497150  -315.350550\n",
       "579   8116.68000     5488.924367  2627.755633\n",
       "..           ...             ...          ...\n",
       "735  10422.91665     9796.645331   626.271319\n",
       "220   3378.91000     3638.690547  -259.780547\n",
       "664   9290.13950     7132.747801  2157.391699\n",
       "155   2585.26900     4419.565110 -1834.296110\n",
       "348   4883.86600     4576.779171   307.086829\n",
       "\n",
       "[201 rows x 3 columns]"
      ]
     },
     "execution_count": 94,
     "metadata": {},
     "output_type": "execute_result"
    }
   ],
   "source": [
    "error_pred"
   ]
  },
  {
   "cell_type": "code",
   "execution_count": 95,
   "id": "fb0c0e01",
   "metadata": {},
   "outputs": [],
   "source": [
    "from sklearn.metrics import*"
   ]
  },
  {
   "cell_type": "code",
   "execution_count": 97,
   "id": "6c56f55a",
   "metadata": {},
   "outputs": [
    {
     "data": {
      "text/plain": [
       "0.8370014329814494"
      ]
     },
     "execution_count": 97,
     "metadata": {},
     "output_type": "execute_result"
    }
   ],
   "source": [
    "r2_on_test=r2_score(y_test,predictions)\n",
    "r2_on_test"
   ]
  },
  {
   "cell_type": "code",
   "execution_count": null,
   "id": "cd3404bd",
   "metadata": {},
   "outputs": [],
   "source": []
  }
 ],
 "metadata": {
  "kernelspec": {
   "display_name": "Python 3 (ipykernel)",
   "language": "python",
   "name": "python3"
  },
  "language_info": {
   "codemirror_mode": {
    "name": "ipython",
    "version": 3
   },
   "file_extension": ".py",
   "mimetype": "text/x-python",
   "name": "python",
   "nbconvert_exporter": "python",
   "pygments_lexer": "ipython3",
   "version": "3.10.9"
  }
 },
 "nbformat": 4,
 "nbformat_minor": 5
}
